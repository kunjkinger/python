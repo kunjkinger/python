{
  "nbformat": 4,
  "nbformat_minor": 0,
  "metadata": {
    "kernelspec": {
      "display_name": "Python 3",
      "language": "python",
      "name": "python3"
    },
    "language_info": {
      "codemirror_mode": {
        "name": "ipython",
        "version": 3
      },
      "file_extension": ".py",
      "mimetype": "text/x-python",
      "name": "python",
      "nbconvert_exporter": "python",
      "pygments_lexer": "ipython3",
      "version": "3.6.1"
    },
    "colab": {
      "name": "01-Field-Readiness-Exam-One.ipynb",
      "provenance": [],
      "collapsed_sections": [],
      "include_colab_link": true
    }
  },
  "cells": [
    {
      "cell_type": "markdown",
      "metadata": {
        "id": "view-in-github",
        "colab_type": "text"
      },
      "source": [
        "<a href=\"https://colab.research.google.com/github/kunjkinger/kunjkinger/blob/main/01_Field_Readiness_Exam_One.ipynb\" target=\"_parent\"><img src=\"https://colab.research.google.com/assets/colab-badge.svg\" alt=\"Open In Colab\"/></a>"
      ]
    },
    {
      "cell_type": "markdown",
      "metadata": {
        "id": "Mp3X4wZ0lMdf"
      },
      "source": [
        "# Field Readiness Exam\n",
        "\n",
        "** Welcome to your first FRE - Field Readiness Exam Recruit! This is where we test your skills to see if you qualify to become a full field agent. Complete the tasks below to the best of your ability. Immediately after this we will go over the solutions and check your performance. **\n",
        "_______"
      ]
    },
    {
      "cell_type": "markdown",
      "metadata": {
        "id": "UkUwLOfClMdm"
      },
      "source": [
        "### Task 1\n",
        "\n",
        "**Open the exam.txt file with Python and with only read permission and store the contents in a list called exam_lines**"
      ]
    },
    {
      "cell_type": "code",
      "metadata": {
        "collapsed": true,
        "id": "1vBwqzuhlMdm"
      },
      "source": [
        "with open('exam.txt') as f:\n",
        "  examlines = f.readlines()"
      ],
      "execution_count": 2,
      "outputs": []
    },
    {
      "cell_type": "code",
      "metadata": {
        "id": "1P74ZuTPlMdn",
        "outputId": "19493f41-eb68-4ae0-8b27-82c81d68125e"
      },
      "source": [
        "# Your output should look something like this:"
      ],
      "execution_count": null,
      "outputs": [
        {
          "output_type": "stream",
          "text": [
            "['Welcome to your First Exam Recruit.\\n', 'Only the best recruits can become agents.\\n', 'Do you have what it takes?\\n', 'We will test your knowledge with this field readiness exam.\\n', 'It should be pretty simple, since you only know the basics so far.\\n', \"Let's get started.\\n\", 'Best of luck recruit.']\n"
          ],
          "name": "stdout"
        }
      ]
    },
    {
      "cell_type": "code",
      "metadata": {
        "colab": {
          "base_uri": "https://localhost:8080/"
        },
        "id": "wn4v1tOilmRG",
        "outputId": "60b20872-2883-4b4b-a3e9-aa9b1697c3a0"
      },
      "source": [
        "examlines"
      ],
      "execution_count": 3,
      "outputs": [
        {
          "output_type": "execute_result",
          "data": {
            "text/plain": [
              "['Welcome to your First Exam Recruit.\\n',\n",
              " 'Only the best recruits can become agents.\\n',\n",
              " 'Do you have what it takes?\\n',\n",
              " 'We will test your knowledge with this field readiness exam.\\n',\n",
              " 'It should be pretty simple, since you only know the basics so far.\\n',\n",
              " \"Let's get started.\\n\",\n",
              " 'Best of luck recruit.']"
            ]
          },
          "metadata": {
            "tags": []
          },
          "execution_count": 3
        }
      ]
    },
    {
      "cell_type": "markdown",
      "metadata": {
        "id": "U5EckL4clMdo"
      },
      "source": [
        "### Task 2\n",
        "\n",
        "How many lines does this file have?"
      ]
    },
    {
      "cell_type": "code",
      "metadata": {
        "collapsed": true,
        "colab": {
          "base_uri": "https://localhost:8080/"
        },
        "id": "n4bepaARlMdo",
        "outputId": "d90b02eb-4ae4-490f-d919-c5e2b8170683"
      },
      "source": [
        "len(examlines)"
      ],
      "execution_count": 4,
      "outputs": [
        {
          "output_type": "execute_result",
          "data": {
            "text/plain": [
              "7"
            ]
          },
          "metadata": {
            "tags": []
          },
          "execution_count": 4
        }
      ]
    },
    {
      "cell_type": "code",
      "metadata": {
        "id": "Yhdjw8ZelMdo",
        "outputId": "18f5cf0f-f57c-43db-a7d8-3e9d616b42b8"
      },
      "source": [
        "# Your output should look something like this:"
      ],
      "execution_count": null,
      "outputs": [
        {
          "output_type": "execute_result",
          "data": {
            "text/plain": [
              "7"
            ]
          },
          "metadata": {
            "tags": []
          },
          "execution_count": 9
        }
      ]
    },
    {
      "cell_type": "markdown",
      "metadata": {
        "id": "5Q6Jc69mlMdp"
      },
      "source": [
        "### Task 3\n",
        "\n",
        "Print out the 5th line of the text file."
      ]
    },
    {
      "cell_type": "code",
      "metadata": {
        "collapsed": true,
        "colab": {
          "base_uri": "https://localhost:8080/",
          "height": 35
        },
        "id": "olWr_Y2vlMdp",
        "outputId": "d6a1d655-89d6-4637-8eb7-eb7d3376787d"
      },
      "source": [
        "examlines[4]"
      ],
      "execution_count": 5,
      "outputs": [
        {
          "output_type": "execute_result",
          "data": {
            "application/vnd.google.colaboratory.intrinsic+json": {
              "type": "string"
            },
            "text/plain": [
              "'It should be pretty simple, since you only know the basics so far.\\n'"
            ]
          },
          "metadata": {
            "tags": []
          },
          "execution_count": 5
        }
      ]
    },
    {
      "cell_type": "code",
      "metadata": {
        "id": "3c_KkbUGlMdp",
        "outputId": "9eb5b468-6a16-4326-cc81-344ddd4b08c0"
      },
      "source": [
        "# Your output should look something like this:"
      ],
      "execution_count": null,
      "outputs": [
        {
          "output_type": "stream",
          "text": [
            "It should be pretty simple, since you only know the basics so far.\n",
            "\n"
          ],
          "name": "stdout"
        }
      ]
    },
    {
      "cell_type": "markdown",
      "metadata": {
        "id": "QoCW7GA7lMdp"
      },
      "source": [
        "### Task 4\n",
        "\n",
        "Grab the last line of the text file and save it to a variable called last."
      ]
    },
    {
      "cell_type": "code",
      "metadata": {
        "collapsed": true,
        "id": "PIOVj_oKlMdq"
      },
      "source": [
        "last = examlines[-1]"
      ],
      "execution_count": 13,
      "outputs": []
    },
    {
      "cell_type": "code",
      "metadata": {
        "colab": {
          "base_uri": "https://localhost:8080/",
          "height": 35
        },
        "id": "ug8ucibblMdq",
        "outputId": "11b480b2-4e96-4a4e-9401-79a90665c969"
      },
      "source": [
        "# Your output should look something like this:\n",
        "last"
      ],
      "execution_count": 15,
      "outputs": [
        {
          "output_type": "execute_result",
          "data": {
            "application/vnd.google.colaboratory.intrinsic+json": {
              "type": "string"
            },
            "text/plain": [
              "'Best of luck recruit.'"
            ]
          },
          "metadata": {
            "tags": []
          },
          "execution_count": 15
        }
      ]
    },
    {
      "cell_type": "markdown",
      "metadata": {
        "id": "pDifod6mlMdq"
      },
      "source": [
        "### Task 5\n",
        "\n",
        "Use indexing to grab the letter 'o' from the last line of the file."
      ]
    },
    {
      "cell_type": "code",
      "metadata": {
        "collapsed": true,
        "colab": {
          "base_uri": "https://localhost:8080/",
          "height": 35
        },
        "id": "qwjk7xidlMdq",
        "outputId": "8b604aa1-3016-45ca-fed1-aeacb8186846"
      },
      "source": [
        "last[5]"
      ],
      "execution_count": 16,
      "outputs": [
        {
          "output_type": "execute_result",
          "data": {
            "application/vnd.google.colaboratory.intrinsic+json": {
              "type": "string"
            },
            "text/plain": [
              "'o'"
            ]
          },
          "metadata": {
            "tags": []
          },
          "execution_count": 16
        }
      ]
    },
    {
      "cell_type": "code",
      "metadata": {
        "colab": {
          "base_uri": "https://localhost:8080/"
        },
        "id": "yFtJA4qpmbwF",
        "outputId": "d6f055fc-fe39-4aad-be75-06df9c2ccae3"
      },
      "source": [
        "last.split(' ')"
      ],
      "execution_count": 18,
      "outputs": [
        {
          "output_type": "execute_result",
          "data": {
            "text/plain": [
              "['Best', 'of', 'luck', 'recruit.']"
            ]
          },
          "metadata": {
            "tags": []
          },
          "execution_count": 18
        }
      ]
    },
    {
      "cell_type": "code",
      "metadata": {
        "colab": {
          "base_uri": "https://localhost:8080/"
        },
        "id": "WNP4lno2meVW",
        "outputId": "8e3dc75f-df81-4291-e79b-030d25c3c0d8"
      },
      "source": [
        "len(last.split(' '))"
      ],
      "execution_count": 19,
      "outputs": [
        {
          "output_type": "execute_result",
          "data": {
            "text/plain": [
              "4"
            ]
          },
          "metadata": {
            "tags": []
          },
          "execution_count": 19
        }
      ]
    },
    {
      "cell_type": "code",
      "metadata": {
        "id": "2J9iovvqlMdq",
        "outputId": "6ddac84a-bce3-4c07-e24f-e0e04944613e"
      },
      "source": [
        "   # Your output should look something like this:"
      ],
      "execution_count": null,
      "outputs": [
        {
          "output_type": "execute_result",
          "data": {
            "text/plain": [
              "'o'"
            ]
          },
          "metadata": {
            "tags": []
          },
          "execution_count": 45
        }
      ]
    },
    {
      "cell_type": "markdown",
      "metadata": {
        "id": "JVyLt3lQlMdr"
      },
      "source": [
        "### Task 6\n",
        "\n",
        "How could you use Python to count how many words there are in the last line?"
      ]
    },
    {
      "cell_type": "code",
      "metadata": {
        "colab": {
          "base_uri": "https://localhost:8080/"
        },
        "id": "AmHlk9NxlMdr",
        "outputId": "443e0d03-07b0-40e3-f035-99236a186198"
      },
      "source": [
        "len(last)"
      ],
      "execution_count": 17,
      "outputs": [
        {
          "output_type": "execute_result",
          "data": {
            "text/plain": [
              "21"
            ]
          },
          "metadata": {
            "tags": []
          },
          "execution_count": 17
        }
      ]
    },
    {
      "cell_type": "code",
      "metadata": {
        "id": "8pkwpcYylMdr",
        "outputId": "cc1b9625-ad6a-4af0-df86-34960b9a5bd7"
      },
      "source": [
        "# Your output should look something like this:"
      ],
      "execution_count": null,
      "outputs": [
        {
          "output_type": "execute_result",
          "data": {
            "text/plain": [
              "4"
            ]
          },
          "metadata": {
            "tags": []
          },
          "execution_count": 48
        }
      ]
    },
    {
      "cell_type": "markdown",
      "metadata": {
        "id": "XJyGwKXrlMdr"
      },
      "source": [
        "### Task 7\n",
        "\n",
        "What data types are returned by the following lines of code:\n",
        "\n",
        "    1.)  2/3\n",
        "    2.)  2 + 2.0\n",
        "    3.)  1 + 1\n",
        "    4.)  \"2\" + \"2\"\n",
        "    5.)  1 > 2\n",
        "    \n",
        "Try to do these in your head before checking by running the code in python."
      ]
    },
    {
      "cell_type": "code",
      "metadata": {
        "collapsed": true,
        "colab": {
          "base_uri": "https://localhost:8080/",
          "height": 35
        },
        "id": "yc_HBIv5lMds",
        "outputId": "1a3c008a-310c-42ab-ed81-a347532084c7"
      },
      "source": [
        "\"2\" + \"2\""
      ],
      "execution_count": 20,
      "outputs": [
        {
          "output_type": "execute_result",
          "data": {
            "application/vnd.google.colaboratory.intrinsic+json": {
              "type": "string"
            },
            "text/plain": [
              "'22'"
            ]
          },
          "metadata": {
            "tags": []
          },
          "execution_count": 20
        }
      ]
    },
    {
      "cell_type": "markdown",
      "metadata": {
        "id": "mApDDAEwlMds"
      },
      "source": [
        "### Task 8\n",
        "\n",
        "Let's check how well you understand indexing and key calls. Here we present to you a set of dictionaries and lists that are nested inside a single dictionary **d**. While this is an unrealistic representation of how you would use these data types in the field, this is just for practice:"
      ]
    },
    {
      "cell_type": "code",
      "metadata": {
        "collapsed": true,
        "id": "GUZr-Y0NlMds"
      },
      "source": [
        "d = {\"levelone\":[1,2,{'leveltwo':[5,6,[1,['get me please']]]}]}"
      ],
      "execution_count": 21,
      "outputs": []
    },
    {
      "cell_type": "markdown",
      "metadata": {
        "id": "Wi00FU71lMds"
      },
      "source": [
        "Your task is to retrieve the string \"get me please\" from the dictionary with stacked index and key calls.\n",
        "\n",
        "Hint: Approach this step by step, slowly adding on more and more index calls. Recall that you can use .keys() to figure out what keys are in a  dictionary."
      ]
    },
    {
      "cell_type": "code",
      "metadata": {
        "collapsed": true,
        "colab": {
          "base_uri": "https://localhost:8080/",
          "height": 35
        },
        "id": "wdGgpO9ClMds",
        "outputId": "ec118e00-9a3d-464e-c46c-3112934fe989"
      },
      "source": [
        "d['levelone'][2]['leveltwo'][2][1][0]"
      ],
      "execution_count": null,
      "outputs": [
        {
          "output_type": "execute_result",
          "data": {
            "application/vnd.google.colaboratory.intrinsic+json": {
              "type": "string"
            },
            "text/plain": [
              "'get me please'"
            ]
          },
          "metadata": {
            "tags": []
          },
          "execution_count": 32
        }
      ]
    },
    {
      "cell_type": "code",
      "metadata": {
        "id": "Vo8pqzHTlMdt",
        "outputId": "fd4dc335-7e5d-4c2e-9a09-801fca0deecd"
      },
      "source": [
        "# Your output should look something like this:"
      ],
      "execution_count": null,
      "outputs": [
        {
          "output_type": "execute_result",
          "data": {
            "text/plain": [
              "'get me please'"
            ]
          },
          "metadata": {
            "tags": []
          },
          "execution_count": 57
        }
      ]
    },
    {
      "cell_type": "markdown",
      "metadata": {
        "id": "CLZJx85ElMdt"
      },
      "source": [
        "### Bonus Task\n",
        "\n",
        "How many unique integers are in this list? (You will need to use a casting method we haven't shown you yet)"
      ]
    },
    {
      "cell_type": "code",
      "metadata": {
        "collapsed": true,
        "id": "vPZknH7YlMdt"
      },
      "source": [
        "mylist = [1,2,3,4,5,6,4,3,2,1,2,3,4,5,6,6,7,8,5,6,7,8,9,8,9,8,9,7,10,123,1,2,2,3,1,3,2,4,1,4,4,1,2,2,22,3,4,1,4,1]"
      ],
      "execution_count": 34,
      "outputs": []
    },
    {
      "cell_type": "code",
      "metadata": {
        "collapsed": true,
        "colab": {
          "base_uri": "https://localhost:8080/"
        },
        "id": "4T-Hv6PylMdt",
        "outputId": "3f13def5-e997-4524-f91f-83af132db4ca"
      },
      "source": [
        "len(set(mylist))"
      ],
      "execution_count": 37,
      "outputs": [
        {
          "output_type": "execute_result",
          "data": {
            "text/plain": [
              "12"
            ]
          },
          "metadata": {
            "tags": []
          },
          "execution_count": 37
        }
      ]
    },
    {
      "cell_type": "code",
      "metadata": {
        "id": "KJVPpY2blMdt",
        "outputId": "f4a016b6-b952-4a78-eb3d-6e0176b63b96"
      },
      "source": [
        "# Your output should look something like this:"
      ],
      "execution_count": null,
      "outputs": [
        {
          "output_type": "execute_result",
          "data": {
            "text/plain": [
              "12"
            ]
          },
          "metadata": {
            "tags": []
          },
          "execution_count": 43
        }
      ]
    },
    {
      "cell_type": "code",
      "metadata": {
        "id": "ztNCSQIanjkM"
      },
      "source": [
        ""
      ],
      "execution_count": null,
      "outputs": []
    },
    {
      "cell_type": "markdown",
      "metadata": {
        "id": "ZnF5re3OlMdu"
      },
      "source": [
        "Excellent work recruit, now that you are done with the basics of data types and storage with Python, let's move on to learning about control flow with Python."
      ]
    }
  ]
}