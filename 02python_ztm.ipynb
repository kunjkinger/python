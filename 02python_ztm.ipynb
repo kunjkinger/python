{
  "nbformat": 4,
  "nbformat_minor": 0,
  "metadata": {
    "colab": {
      "name": "02python_ztm.ipynb",
      "provenance": [],
      "collapsed_sections": [],
      "authorship_tag": "ABX9TyNdsjRzBJHL3tz0FeN/yPzx",
      "include_colab_link": true
    },
    "kernelspec": {
      "name": "python3",
      "display_name": "Python 3"
    },
    "language_info": {
      "name": "python"
    }
  },
  "cells": [
    {
      "cell_type": "markdown",
      "metadata": {
        "id": "view-in-github",
        "colab_type": "text"
      },
      "source": [
        "<a href=\"https://colab.research.google.com/github/kunjkinger/python/blob/main/02python_ztm.ipynb\" target=\"_parent\"><img src=\"https://colab.research.google.com/assets/colab-badge.svg\" alt=\"Open In Colab\"/></a>"
      ]
    },
    {
      "cell_type": "markdown",
      "metadata": {
        "id": "jWwu3hcACvVn"
      },
      "source": [
        "*args and  **kwargs\n"
      ]
    },
    {
      "cell_type": "code",
      "metadata": {
        "colab": {
          "base_uri": "https://localhost:8080/"
        },
        "id": "7Y_7-RHRCwuV",
        "outputId": "b997ddd8-f8a5-49fd-8da0-ae73221efe0e"
      },
      "source": [
        "def super_func(*args):\n",
        "  return sum(args)\n",
        "\n",
        "print(super_func(1,2,3,4,5))"
      ],
      "execution_count": 51,
      "outputs": [
        {
          "output_type": "stream",
          "name": "stdout",
          "text": [
            "15\n"
          ]
        }
      ]
    },
    {
      "cell_type": "code",
      "metadata": {
        "colab": {
          "base_uri": "https://localhost:8080/"
        },
        "id": "U-RlzCmyDCil",
        "outputId": "7b3035f7-999c-4528-f9e5-fd518a49265d"
      },
      "source": [
        "def super_func(*args,**kwargs):\n",
        "  print(args)\n",
        "  print(kwargs)\n",
        "  total = 0\n",
        "  for items in kwargs.values():\n",
        "    total += items\n",
        "  return sum(args) + total\n",
        "\n",
        "print(super_func(1,2,3,4,5,num1=1,num2=5))"
      ],
      "execution_count": 52,
      "outputs": [
        {
          "output_type": "stream",
          "name": "stdout",
          "text": [
            "(1, 2, 3, 4, 5)\n",
            "{'num1': 1, 'num2': 5}\n",
            "21\n"
          ]
        }
      ]
    },
    {
      "cell_type": "code",
      "metadata": {
        "id": "EvqKJ9oIDZGD"
      },
      "source": [
        "def highest_even(li):\n",
        "  for i,j in enumerate(li):\n",
        "    if li[i] % 2 == 0:\n",
        "      return max(li)"
      ],
      "execution_count": 53,
      "outputs": []
    },
    {
      "cell_type": "code",
      "metadata": {
        "colab": {
          "base_uri": "https://localhost:8080/"
        },
        "id": "YR1sJL6LFxI4",
        "outputId": "6bb39382-b8cb-48ad-ca7c-0a23e81be4c0"
      },
      "source": [
        "highest_even([1,2,3,4,5,3,2,10])"
      ],
      "execution_count": 54,
      "outputs": [
        {
          "output_type": "execute_result",
          "data": {
            "text/plain": [
              "10"
            ]
          },
          "metadata": {},
          "execution_count": 54
        }
      ]
    },
    {
      "cell_type": "code",
      "metadata": {
        "colab": {
          "base_uri": "https://localhost:8080/",
          "height": 35
        },
        "id": "HW5TpRXCGEHJ",
        "outputId": "4b8f76ff-19e8-434c-b382-8c1dc819b280"
      },
      "source": [
        "'hello'.upper()"
      ],
      "execution_count": 55,
      "outputs": [
        {
          "output_type": "execute_result",
          "data": {
            "application/vnd.google.colaboratory.intrinsic+json": {
              "type": "string"
            },
            "text/plain": [
              "'HELLO'"
            ]
          },
          "metadata": {},
          "execution_count": 55
        }
      ]
    },
    {
      "cell_type": "code",
      "metadata": {
        "id": "bzydTavmfyQ9"
      },
      "source": [
        " #global\n",
        " total = 0 \n",
        "  \n",
        "def count():\n",
        "  global total\n",
        "  total += 1\n",
        "  return total"
      ],
      "execution_count": 56,
      "outputs": []
    },
    {
      "cell_type": "code",
      "metadata": {
        "colab": {
          "base_uri": "https://localhost:8080/"
        },
        "id": "ZFdm1c0PiNqS",
        "outputId": "e6cea2ff-e069-49d7-c6d6-a9ebdf1e30e8"
      },
      "source": [
        "count()"
      ],
      "execution_count": 57,
      "outputs": [
        {
          "output_type": "execute_result",
          "data": {
            "text/plain": [
              "1"
            ]
          },
          "metadata": {},
          "execution_count": 57
        }
      ]
    },
    {
      "cell_type": "code",
      "metadata": {
        "colab": {
          "base_uri": "https://localhost:8080/"
        },
        "id": "7GmTXQu_iPKB",
        "outputId": "aef92787-2f2b-4085-dd1c-d361734a4daf"
      },
      "source": [
        "total = 0 \n",
        "\n",
        "def count(total):\n",
        "  total += 1\n",
        "  return total\n",
        "\n",
        "print(count(count(count(count(total)))))"
      ],
      "execution_count": 58,
      "outputs": [
        {
          "output_type": "stream",
          "name": "stdout",
          "text": [
            "4\n"
          ]
        }
      ]
    },
    {
      "cell_type": "code",
      "metadata": {
        "id": "LoiNHumIiQ15"
      },
      "source": [
        "#non local\n",
        "\n",
        "def outer():\n",
        "  x = 'local'\n",
        "\n",
        "  def inner():\n",
        "    nonlocal x\n",
        "    x = 'nonlocal'\n",
        "    print('inner: ',x)\n",
        "\n",
        "  inner()\n",
        "  print('outer: ',x)"
      ],
      "execution_count": 59,
      "outputs": []
    },
    {
      "cell_type": "code",
      "metadata": {
        "colab": {
          "base_uri": "https://localhost:8080/"
        },
        "id": "0CZNXdE0iSfg",
        "outputId": "ae169dfc-cb05-4da8-8c1f-086c07050e06"
      },
      "source": [
        "outer()"
      ],
      "execution_count": 60,
      "outputs": [
        {
          "output_type": "stream",
          "name": "stdout",
          "text": [
            "inner:  nonlocal\n",
            "outer:  nonlocal\n"
          ]
        }
      ]
    },
    {
      "cell_type": "code",
      "metadata": {
        "id": "P10VDSwkiUez"
      },
      "source": [
        "fruits = [\"apple\", \"banana\", \"cherry\"]\n",
        "fruits.append('orange')"
      ],
      "execution_count": 61,
      "outputs": []
    },
    {
      "cell_type": "code",
      "metadata": {
        "colab": {
          "base_uri": "https://localhost:8080/"
        },
        "id": "5lxkuCZ2kESi",
        "outputId": "9ef4b736-49f9-48d8-83db-a5e0ce051eac"
      },
      "source": [
        "fruits"
      ],
      "execution_count": 62,
      "outputs": [
        {
          "output_type": "execute_result",
          "data": {
            "text/plain": [
              "['apple', 'banana', 'cherry', 'orange']"
            ]
          },
          "metadata": {},
          "execution_count": 62
        }
      ]
    },
    {
      "cell_type": "code",
      "metadata": {
        "id": "QPjm1tuVkFGD"
      },
      "source": [
        "fruits = [\"apple\", \"banana\", \"cherry\"]\n",
        "fruits.insert(1,'lemon')"
      ],
      "execution_count": 63,
      "outputs": []
    },
    {
      "cell_type": "code",
      "metadata": {
        "colab": {
          "base_uri": "https://localhost:8080/"
        },
        "id": "WxFYMCRvkNN8",
        "outputId": "f46de071-de1f-4001-f0a1-ef6f97a5b1bd"
      },
      "source": [
        "fruits"
      ],
      "execution_count": 64,
      "outputs": [
        {
          "output_type": "execute_result",
          "data": {
            "text/plain": [
              "['apple', 'lemon', 'banana', 'cherry']"
            ]
          },
          "metadata": {},
          "execution_count": 64
        }
      ]
    },
    {
      "cell_type": "code",
      "metadata": {
        "colab": {
          "base_uri": "https://localhost:8080/"
        },
        "id": "Pr-CCWYPkN-a",
        "outputId": "f7eb78d5-94bd-41e5-c64a-23bcafb8674d"
      },
      "source": [
        "fruits = {\"apple\", \"banana\", \"cherry\"}\n",
        "more_fruits = [\"orange\", \"mango\", \"grapes\"]\n",
        "fruits.update(more_fruits)\n",
        "fruits"
      ],
      "execution_count": 65,
      "outputs": [
        {
          "output_type": "execute_result",
          "data": {
            "text/plain": [
              "{'apple', 'banana', 'cherry', 'grapes', 'mango', 'orange'}"
            ]
          },
          "metadata": {},
          "execution_count": 65
        }
      ]
    },
    {
      "cell_type": "code",
      "metadata": {
        "colab": {
          "base_uri": "https://localhost:8080/"
        },
        "id": "iryr3NMulLFS",
        "outputId": "6435fb1e-6d2d-4fc8-e3d1-f2c93794ed71"
      },
      "source": [
        "fruits = {\"apple\", \"banana\", \"cherry\"}\n",
        "fruits.remove('banana')\n",
        "fruits"
      ],
      "execution_count": 66,
      "outputs": [
        {
          "output_type": "execute_result",
          "data": {
            "text/plain": [
              "{'apple', 'cherry'}"
            ]
          },
          "metadata": {},
          "execution_count": 66
        }
      ]
    },
    {
      "cell_type": "code",
      "metadata": {
        "colab": {
          "base_uri": "https://localhost:8080/"
        },
        "id": "EJkkPXJ0leZe",
        "outputId": "2e4fc2b1-7a4f-4ef8-8906-bf061e7ee00a"
      },
      "source": [
        "fruits = {\"apple\", \"banana\", \"cherry\"}\n",
        "fruits.discard('banana')\n",
        "fruits"
      ],
      "execution_count": 67,
      "outputs": [
        {
          "output_type": "execute_result",
          "data": {
            "text/plain": [
              "{'apple', 'cherry'}"
            ]
          },
          "metadata": {},
          "execution_count": 67
        }
      ]
    },
    {
      "cell_type": "code",
      "metadata": {
        "colab": {
          "base_uri": "https://localhost:8080/"
        },
        "id": "-dB6gOpBll-h",
        "outputId": "2f6c4b1e-b64b-431e-d48c-7dee137917f5"
      },
      "source": [
        "car =\t{\n",
        "  \"brand\": \"Ford\",\n",
        "  \"model\": \"Mustang\",\n",
        "  \"year\": 1964\n",
        "}\n",
        "print(\n",
        "car.get('model')\n",
        ")"
      ],
      "execution_count": 68,
      "outputs": [
        {
          "output_type": "stream",
          "name": "stdout",
          "text": [
            "Mustang\n"
          ]
        }
      ]
    },
    {
      "cell_type": "code",
      "metadata": {
        "colab": {
          "base_uri": "https://localhost:8080/"
        },
        "id": "AT0SEXAimHh7",
        "outputId": "e3dae112-c1d1-4432-e958-442fd974fc52"
      },
      "source": [
        "car.values()"
      ],
      "execution_count": 69,
      "outputs": [
        {
          "output_type": "execute_result",
          "data": {
            "text/plain": [
              "dict_values(['Ford', 'Mustang', 1964])"
            ]
          },
          "metadata": {},
          "execution_count": 69
        }
      ]
    },
    {
      "cell_type": "code",
      "metadata": {
        "colab": {
          "base_uri": "https://localhost:8080/"
        },
        "id": "OZKvmAdbmKO3",
        "outputId": "00520f71-0c52-4697-a31b-54227cf6251f"
      },
      "source": [
        "car =\t{\n",
        "  \"brand\": \"Ford\",\n",
        "  \"model\": \"Mustang\",\n",
        "  \"year\": 1964\n",
        "}\n",
        "car['year'] = 2020\n",
        "car"
      ],
      "execution_count": 70,
      "outputs": [
        {
          "output_type": "execute_result",
          "data": {
            "text/plain": [
              "{'brand': 'Ford', 'model': 'Mustang', 'year': 2020}"
            ]
          },
          "metadata": {},
          "execution_count": 70
        }
      ]
    },
    {
      "cell_type": "code",
      "metadata": {
        "colab": {
          "base_uri": "https://localhost:8080/"
        },
        "id": "vFHklc1ImWD1",
        "outputId": "99841b21-d1cf-4e42-8426-5f58e2d7802a"
      },
      "source": [
        "car =\t{\n",
        "  \"brand\": \"Ford\",\n",
        "  \"model\": \"Mustang\",\n",
        "  \"year\": 1964\n",
        "}\n",
        "car['color'] = 'red'\n",
        "car"
      ],
      "execution_count": 71,
      "outputs": [
        {
          "output_type": "execute_result",
          "data": {
            "text/plain": [
              "{'brand': 'Ford', 'color': 'red', 'model': 'Mustang', 'year': 1964}"
            ]
          },
          "metadata": {},
          "execution_count": 71
        }
      ]
    },
    {
      "cell_type": "code",
      "metadata": {
        "colab": {
          "base_uri": "https://localhost:8080/"
        },
        "id": "Ls9GZtkemkHE",
        "outputId": "e93f4590-f92b-482d-a1fe-83f2320dde4e"
      },
      "source": [
        "car =\t{\n",
        "  \"brand\": \"Ford\",\n",
        "  \"model\": \"Mustang\",\n",
        "  \"year\": 1964\n",
        "}\n",
        "car.pop('model')\n",
        "car"
      ],
      "execution_count": 72,
      "outputs": [
        {
          "output_type": "execute_result",
          "data": {
            "text/plain": [
              "{'brand': 'Ford', 'year': 1964}"
            ]
          },
          "metadata": {},
          "execution_count": 72
        }
      ]
    },
    {
      "cell_type": "code",
      "metadata": {
        "colab": {
          "base_uri": "https://localhost:8080/"
        },
        "id": "wcDJ6899mp3d",
        "outputId": "f31d6aed-d896-4371-be10-4fb6e946db52"
      },
      "source": [
        "car.clear()\n",
        "car"
      ],
      "execution_count": 73,
      "outputs": [
        {
          "output_type": "execute_result",
          "data": {
            "text/plain": [
              "{}"
            ]
          },
          "metadata": {},
          "execution_count": 73
        }
      ]
    },
    {
      "cell_type": "code",
      "metadata": {
        "colab": {
          "base_uri": "https://localhost:8080/"
        },
        "id": "wiR9bgfGmufK",
        "outputId": "37f69ffd-9466-482b-d528-c7ade07bd911"
      },
      "source": [
        "picture = [\n",
        "           [0,0,0,1,0,0,0],\n",
        "           [0,0,1,1,1,0,0],\n",
        "           [0,1,1,1,1,1,0],\n",
        "           [1,1,1,1,1,1,1],\n",
        "           [0,0,0,1,0,0,0],\n",
        "]\n",
        "\n",
        "for image in picture:\n",
        "  for pixel in image:\n",
        "    if pixel:\n",
        "      print('*',end=\"\")\n",
        "    else:\n",
        "      print(' ',end=\"\")\n",
        "  print(' ')"
      ],
      "execution_count": 80,
      "outputs": [
        {
          "output_type": "stream",
          "name": "stdout",
          "text": [
            "   *    \n",
            "  ***   \n",
            " *****  \n",
            "******* \n",
            "   *    \n"
          ]
        }
      ]
    },
    {
      "cell_type": "code",
      "metadata": {
        "id": "CTNzKMjGtQuf"
      },
      "source": [
        ""
      ],
      "execution_count": null,
      "outputs": []
    }
  ]
}