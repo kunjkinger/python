{
  "nbformat": 4,
  "nbformat_minor": 0,
  "metadata": {
    "colab": {
      "name": "03_python_ztm.ipynb",
      "provenance": [],
      "authorship_tag": "ABX9TyMdAGfT+47LmGWfn8uQU8Zx",
      "include_colab_link": true
    },
    "kernelspec": {
      "name": "python3",
      "display_name": "Python 3"
    },
    "language_info": {
      "name": "python"
    }
  },
  "cells": [
    {
      "cell_type": "markdown",
      "metadata": {
        "id": "view-in-github",
        "colab_type": "text"
      },
      "source": [
        "<a href=\"https://colab.research.google.com/github/kunjkinger/python/blob/main/03_python_ztm.ipynb\" target=\"_parent\"><img src=\"https://colab.research.google.com/assets/colab-badge.svg\" alt=\"Open In Colab\"/></a>"
      ]
    },
    {
      "cell_type": "code",
      "metadata": {
        "id": "Be8QjjlU8baJ"
      },
      "source": [
        "class PlayerCharacter:\n",
        "  #class object attribute\n",
        "  membership = True\n",
        "  def __init__(self,name,age):\n",
        "    if (PlayerCharacter.membership):\n",
        "      self.name = name\n",
        "      self.age = age\n",
        "\n",
        "  def run(self):\n",
        "    return 'Done'\n",
        "    print('run')\n",
        "\n",
        "  def shout(self):\n",
        "    print(f'my name is {self.name}')\n",
        "\n",
        "  @classmethod # not used alot\n",
        "  def adding_things(cls,num1,num2):\n",
        "    return cls('teddy',num1 + num2)\n",
        "  \n",
        "  @staticmethod\n",
        "  def adding_things2(num1,num2):\n",
        "    return num1+num2"
      ],
      "execution_count": 98,
      "outputs": []
    },
    {
      "cell_type": "code",
      "metadata": {
        "id": "mKThW62eGW8j"
      },
      "source": [
        "player1 = PlayerCharacter('kunj',27)\n",
        "player2 = PlayerCharacter('Raman',31)\n",
        "player3 = PlayerCharacter.adding_things(2,3)\n"
      ],
      "execution_count": 99,
      "outputs": []
    },
    {
      "cell_type": "code",
      "metadata": {
        "colab": {
          "base_uri": "https://localhost:8080/"
        },
        "id": "DWWcd5v6Gdu2",
        "outputId": "19358dea-13a6-483a-de23-ab84230dd9ef"
      },
      "source": [
        "print(player1.name,player1.age)\n",
        "print(player2.name,player2.age)"
      ],
      "execution_count": 100,
      "outputs": [
        {
          "output_type": "stream",
          "name": "stdout",
          "text": [
            "kunj 27\n",
            "Raman 31\n"
          ]
        }
      ]
    },
    {
      "cell_type": "code",
      "metadata": {
        "colab": {
          "base_uri": "https://localhost:8080/"
        },
        "id": "uIR1Zy7kGhDv",
        "outputId": "4fd64452-2a3b-4361-8ea6-8ae90304a3e9"
      },
      "source": [
        "player2.attack = 50\n",
        "print(player2.attack)"
      ],
      "execution_count": 101,
      "outputs": [
        {
          "output_type": "stream",
          "name": "stdout",
          "text": [
            "50\n"
          ]
        }
      ]
    },
    {
      "cell_type": "code",
      "metadata": {
        "colab": {
          "base_uri": "https://localhost:8080/"
        },
        "id": "KMaJvsfVigNh",
        "outputId": "26a07cf0-4e41-4a7d-c5ae-e24e7bc4f05a"
      },
      "source": [
        "print(player3.age), print(player1.adding_things2(2,4))"
      ],
      "execution_count": 102,
      "outputs": [
        {
          "output_type": "stream",
          "name": "stdout",
          "text": [
            "5\n",
            "6\n"
          ]
        },
        {
          "output_type": "execute_result",
          "data": {
            "text/plain": [
              "(None, None)"
            ]
          },
          "metadata": {},
          "execution_count": 102
        }
      ]
    },
    {
      "cell_type": "code",
      "metadata": {
        "colab": {
          "base_uri": "https://localhost:8080/"
        },
        "id": "-3sGSYWGG3bu",
        "outputId": "62e265ad-ee8f-42eb-f401-c38c0cbd945d"
      },
      "source": [
        "print(player1.membership)\n",
        "print(player2.membership)"
      ],
      "execution_count": 103,
      "outputs": [
        {
          "output_type": "stream",
          "name": "stdout",
          "text": [
            "True\n",
            "True\n"
          ]
        }
      ]
    },
    {
      "cell_type": "code",
      "metadata": {
        "colab": {
          "base_uri": "https://localhost:8080/"
        },
        "id": "_mnZvrQXKE7m",
        "outputId": "7d71c36d-b0f9-4156-cfe2-d6f87311740f"
      },
      "source": [
        "player1.shout()"
      ],
      "execution_count": 104,
      "outputs": [
        {
          "output_type": "stream",
          "name": "stdout",
          "text": [
            "my name is kunj\n"
          ]
        }
      ]
    },
    {
      "cell_type": "code",
      "metadata": {
        "colab": {
          "base_uri": "https://localhost:8080/"
        },
        "id": "kXOgiTJVh5C_",
        "outputId": "cc733ff2-cab1-4565-a71e-faa546bfb601"
      },
      "source": [
        "print(player1.adding_things(2,3))"
      ],
      "execution_count": 105,
      "outputs": [
        {
          "output_type": "stream",
          "name": "stdout",
          "text": [
            "<__main__.PlayerCharacter object at 0x7f75d2125b90>\n"
          ]
        }
      ]
    },
    {
      "cell_type": "code",
      "metadata": {
        "colab": {
          "base_uri": "https://localhost:8080/"
        },
        "id": "Ro34cmAwKh5m",
        "outputId": "4f0c115e-575e-4b43-a702-e184227fce9f"
      },
      "source": [
        "#Given the below class:\n",
        "class Cat:\n",
        "  species = 'mammal'\n",
        "  def __init__(self, name, age):\n",
        "      self.name = name\n",
        "      self.age = age\n",
        "\n",
        "\n",
        "# 1 Instantiate the Cat object with 3 cats\n",
        "cat1 = Cat('tom',1)\n",
        "cat2 = Cat('jerry',10)\n",
        "cat3 = Cat('koko',2)\n",
        "\n",
        "# 2 Create a function that finds the oldest cat\n",
        "def oldestcat(*args):\n",
        "  return max(*args)\n",
        "\n",
        "\n",
        "# 3 Print out: \"The oldest cat is x years old.\". x will be the oldest cat age by using the function in #2\n",
        "print(f'oldest cat is {oldestcat(cat1.age,cat2.age,cat3.age)} years old')"
      ],
      "execution_count": 106,
      "outputs": [
        {
          "output_type": "stream",
          "name": "stdout",
          "text": [
            "oldest cat is 10 years old\n"
          ]
        }
      ]
    },
    {
      "cell_type": "code",
      "metadata": {
        "colab": {
          "base_uri": "https://localhost:8080/"
        },
        "id": "eopp-7p5es_V",
        "outputId": "e065c6a3-d9e9-4971-b08d-546180d476aa"
      },
      "source": [
        "print(cat1.name)"
      ],
      "execution_count": 107,
      "outputs": [
        {
          "output_type": "stream",
          "name": "stdout",
          "text": [
            "tom\n"
          ]
        }
      ]
    },
    {
      "cell_type": "markdown",
      "metadata": {
        "id": "dBCfGWMWucFu"
      },
      "source": [
        "private vs public variables"
      ]
    },
    {
      "cell_type": "code",
      "metadata": {
        "id": "9clRdaXJeu0d"
      },
      "source": [
        "class PlayerCharacter:\n",
        "  \n",
        "  def __init__(self,name,age):\n",
        "    self._name = name # _ means private still can be manipultaed but its the way of saying private\n",
        "    self._age = age\n",
        "\n",
        "  def run(self):\n",
        "    print('run')\n",
        "\n",
        "  def shout(self):\n",
        "    print(f'my name is {self._name} and I am {self._age} years old')\n"
      ],
      "execution_count": 108,
      "outputs": []
    },
    {
      "cell_type": "code",
      "metadata": {
        "colab": {
          "base_uri": "https://localhost:8080/"
        },
        "id": "zk63mdZJuvWK",
        "outputId": "b733e59d-b6ea-427f-c0da-fa6df0a0906a"
      },
      "source": [
        "player1 = PlayerCharacter('kunj',27)\n",
        "print(player1.shout())"
      ],
      "execution_count": 109,
      "outputs": [
        {
          "output_type": "stream",
          "name": "stdout",
          "text": [
            "my name is kunj and I am 27 years old\n",
            "None\n"
          ]
        }
      ]
    },
    {
      "cell_type": "code",
      "metadata": {
        "colab": {
          "base_uri": "https://localhost:8080/"
        },
        "id": "Ir3ExpR9vJZP",
        "outputId": "93a1c5fa-8b8e-44b6-c163-e5eca4de8acd"
      },
      "source": [
        "player1.shout = 'BOOOOOO'\n",
        "print(player1.shout)"
      ],
      "execution_count": 110,
      "outputs": [
        {
          "output_type": "stream",
          "name": "stdout",
          "text": [
            "BOOOOOO\n"
          ]
        }
      ]
    },
    {
      "cell_type": "code",
      "metadata": {
        "id": "Xm4eH2SsvcfK"
      },
      "source": [
        ""
      ],
      "execution_count": 110,
      "outputs": []
    },
    {
      "cell_type": "markdown",
      "metadata": {
        "id": "NdXNyyAswyv2"
      },
      "source": [
        "Inheritance"
      ]
    },
    {
      "cell_type": "code",
      "metadata": {
        "id": "NVIpSe1kw0UM"
      },
      "source": [
        "class User:\n",
        "  def sign_in(self):\n",
        "    print('logged in')\n",
        "  \n",
        "class Wizard(User):\n",
        "  def __init__(self,name,power):\n",
        "    self.name = name\n",
        "    self.power = power\n",
        "\n",
        "  def attack(self):\n",
        "    print(f'attacking with the power of {self.power}')\n",
        "\n",
        "class Archer(User):\n",
        "  def __init__(self,name,archer):\n",
        "    self.name = name\n",
        "    self.archer = archer\n",
        "\n",
        "  def attack(self):\n",
        "    print(f'attacking with the number of archer left {self.archer}')\n"
      ],
      "execution_count": 134,
      "outputs": []
    },
    {
      "cell_type": "code",
      "metadata": {
        "id": "5ezbqUsSxTkT"
      },
      "source": [
        "wizard1 = Wizard('kunj',50)\n",
        "archer1 = Archer('Emma',100)"
      ],
      "execution_count": 135,
      "outputs": []
    },
    {
      "cell_type": "code",
      "metadata": {
        "colab": {
          "base_uri": "https://localhost:8080/"
        },
        "id": "Rk9yYUk_OAoH",
        "outputId": "e60065f4-1b18-4e12-f8df-cf3dff11fdff"
      },
      "source": [
        "print(wizard1.sign_in())\n",
        "print(wizard1.name)"
      ],
      "execution_count": 136,
      "outputs": [
        {
          "output_type": "stream",
          "name": "stdout",
          "text": [
            "logged in\n",
            "None\n",
            "kunj\n"
          ]
        }
      ]
    },
    {
      "cell_type": "code",
      "metadata": {
        "colab": {
          "base_uri": "https://localhost:8080/"
        },
        "id": "OI-4EPOcOKdZ",
        "outputId": "7ef4fe97-71e7-4447-cae8-cec62e48aa5e"
      },
      "source": [
        "print(isinstance(wizard1,Wizard))"
      ],
      "execution_count": 137,
      "outputs": [
        {
          "output_type": "stream",
          "name": "stdout",
          "text": [
            "True\n"
          ]
        }
      ]
    },
    {
      "cell_type": "code",
      "metadata": {
        "colab": {
          "base_uri": "https://localhost:8080/"
        },
        "id": "hew08ZuBOiRa",
        "outputId": "7e0e6b82-6549-4369-99f7-ececb424bda9"
      },
      "source": [
        "print(isinstance(wizard1,User))"
      ],
      "execution_count": 138,
      "outputs": [
        {
          "output_type": "stream",
          "name": "stdout",
          "text": [
            "True\n"
          ]
        }
      ]
    },
    {
      "cell_type": "markdown",
      "metadata": {
        "id": "nCgscG0FPfRA"
      },
      "source": [
        "Polymorphism"
      ]
    },
    {
      "cell_type": "code",
      "metadata": {
        "id": "rA4ZMxEMPhgv"
      },
      "source": [
        "def player_attack(char):\n",
        "  char.attack()"
      ],
      "execution_count": 139,
      "outputs": []
    },
    {
      "cell_type": "code",
      "metadata": {
        "colab": {
          "base_uri": "https://localhost:8080/"
        },
        "id": "pLXnbiicQF-z",
        "outputId": "f3385889-17b0-4aec-ed97-40118f97eb45"
      },
      "source": [
        "player_attack(wizard1)\n",
        "player_attack(archer1)"
      ],
      "execution_count": 141,
      "outputs": [
        {
          "output_type": "stream",
          "name": "stdout",
          "text": [
            "attacking with the power of 50\n",
            "attacking with the number of archer left 100\n"
          ]
        }
      ]
    },
    {
      "cell_type": "code",
      "metadata": {
        "id": "d_2r5DfCQKYY"
      },
      "source": [
        "class User:\n",
        "  def sign_in(self):\n",
        "    print('logged in')\n",
        "\n",
        "  def attack(self):\n",
        "    print('do Nothing')\n",
        "  \n",
        "class Wizard(User):\n",
        "  def __init__(self,name,power):\n",
        "    self.name = name\n",
        "    self.power = power\n",
        "\n",
        "  def attack(self):\n",
        "    User.attack(self)\n",
        "    print(f'attacking with the power of {self.power}')\n",
        "\n",
        "class Archer(User):\n",
        "  def __init__(self,name,archer):\n",
        "    self.name = name\n",
        "    self.archer = archer\n",
        "\n",
        "  def attack(self):\n",
        "    print(f'attacking with the number of archer left {self.archer}')\n"
      ],
      "execution_count": 142,
      "outputs": []
    },
    {
      "cell_type": "code",
      "metadata": {
        "colab": {
          "base_uri": "https://localhost:8080/"
        },
        "id": "LHBqTAb3RXEx",
        "outputId": "81698611-c3ee-453f-df47-f29d6b323b2d"
      },
      "source": [
        "wizard1 = Wizard('kunj',50)\n",
        "print(wizard1.attack())"
      ],
      "execution_count": 144,
      "outputs": [
        {
          "output_type": "stream",
          "name": "stdout",
          "text": [
            "do Nothing\n",
            "attacking with the power of 50\n",
            "None\n"
          ]
        }
      ]
    },
    {
      "cell_type": "code",
      "metadata": {
        "colab": {
          "base_uri": "https://localhost:8080/"
        },
        "id": "HLg1l-o3RdSp",
        "outputId": "ab9eb01c-d9ca-4018-ec49-77a0123a955a"
      },
      "source": [
        "class Pets():\n",
        "  animals = []\n",
        "  def __init__(self, animals):\n",
        "    self.animals = animals\n",
        "\n",
        "  def walk(self):\n",
        "    for animal in self.animals:\n",
        "        print(animal.walk())\n",
        "\n",
        "class Cat():\n",
        "  is_lazy = True\n",
        "\n",
        "  def __init__(self, name, age):\n",
        "    self.name = name\n",
        "    self.age = age\n",
        "\n",
        "  def walk(self):\n",
        "    return f'{self.name} is just walking around'\n",
        "\n",
        "class Simon(Cat):\n",
        "  def sing(self, sounds):\n",
        "    return f'{sounds}'\n",
        "\n",
        "class Sally(Cat):\n",
        "  def sing(self, sounds):\n",
        "    return f'{sounds}'\n",
        "\n",
        "#1 Add nother Cat\n",
        "class Pumba(Cat):\n",
        "  def sing(self,sounds):\n",
        "    return f'{sounds}'\n",
        "#2 Create a list of all of the pets (create 3 cat instances from the above)\n",
        "my_cats = [Simon('Simon',4), Sally('Sally',21),Pumba('Pumna',10)]\n",
        "\n",
        "#3 Instantiate the Pet class with all your cats use variable my_pets\n",
        "my_pets = Pets(my_cats)\n",
        "#4 Output all of the cats walking using the my_pets instance\n",
        "my_pets.walk()"
      ],
      "execution_count": 146,
      "outputs": [
        {
          "output_type": "stream",
          "name": "stdout",
          "text": [
            "Simon is just walking around\n",
            "Sally is just walking around\n",
            "Pumna is just walking around\n"
          ]
        }
      ]
    },
    {
      "cell_type": "code",
      "metadata": {
        "id": "WbuSiON0YCwE"
      },
      "source": [
        "#super \n",
        "class User:\n",
        "  def __init__(self,email):\n",
        "    self.email = email\n",
        "\n",
        "  def sign_in(self):\n",
        "    print('logged in')\n",
        "\n",
        "class Wizard(User):\n",
        "  def __init__(self,name,power,email):\n",
        "    User.__init__(self,email)\n",
        "    self.name = name\n",
        "    self.power = power\n",
        "\n",
        "  def attack(self):\n",
        "    User.attack(self)\n",
        "    print(f'attacking with the power of {self.power}')\n",
        "\n",
        "class Archer(User):\n",
        "  def __init__(self,name,archer):\n",
        "    self.name = name\n",
        "    self.archer = archer\n",
        "\n",
        "  def attack(self):\n",
        "    print(f'attacking with the number of archer left {self.archer}')\n"
      ],
      "execution_count": 153,
      "outputs": []
    },
    {
      "cell_type": "code",
      "metadata": {
        "id": "ZodcQMgXmuHj"
      },
      "source": [
        "wizard1 = Wizard('kunj',80,'kunjkinger@gmail.com')"
      ],
      "execution_count": 154,
      "outputs": []
    },
    {
      "cell_type": "code",
      "metadata": {
        "colab": {
          "base_uri": "https://localhost:8080/"
        },
        "id": "01gYGBERmyuV",
        "outputId": "d62e5550-d980-48e4-b23a-fcbb8ecad067"
      },
      "source": [
        "wizard1.sign_in(), wizard1.email"
      ],
      "execution_count": 156,
      "outputs": [
        {
          "output_type": "stream",
          "name": "stdout",
          "text": [
            "logged in\n"
          ]
        },
        {
          "output_type": "execute_result",
          "data": {
            "text/plain": [
              "(None, 'kunjkinger@gmail.com')"
            ]
          },
          "metadata": {},
          "execution_count": 156
        }
      ]
    },
    {
      "cell_type": "code",
      "metadata": {
        "id": "6zlDDCEmm0D5"
      },
      "source": [
        "#super \n",
        "class User:\n",
        "  def __init__(self,email):\n",
        "    self.email = email\n",
        "\n",
        "  def sign_in(self):\n",
        "    print('logged in')\n",
        "\n",
        "class Wizard(User):\n",
        "  def __init__(self,name,power,email):\n",
        "    super().__init__(email)\n",
        "    self.name = name\n",
        "    self.power = power\n",
        "\n",
        "  def attack(self):\n",
        "    User.attack(self)\n",
        "    print(f'attacking with the power of {self.power}')\n",
        "\n",
        "class Archer(User):\n",
        "  def __init__(self,name,archer):\n",
        "    self.name = name\n",
        "    self.archer = archer\n",
        "\n",
        "  def attack(self):\n",
        "    print(f'attacking with the number of archer left {self.archer}')\n"
      ],
      "execution_count": 158,
      "outputs": []
    },
    {
      "cell_type": "code",
      "metadata": {
        "colab": {
          "base_uri": "https://localhost:8080/",
          "height": 35
        },
        "id": "-Gm52iagoCiN",
        "outputId": "a2ca45aa-b5b0-482a-9586-2e284b7675ee"
      },
      "source": [
        "wizard1 = Wizard('kunj',80,'kunjkinger@gmail.com')\n",
        "wizard1.email"
      ],
      "execution_count": 159,
      "outputs": [
        {
          "output_type": "execute_result",
          "data": {
            "application/vnd.google.colaboratory.intrinsic+json": {
              "type": "string"
            },
            "text/plain": [
              "'kunjkinger@gmail.com'"
            ]
          },
          "metadata": {},
          "execution_count": 159
        }
      ]
    },
    {
      "cell_type": "code",
      "metadata": {
        "colab": {
          "base_uri": "https://localhost:8080/"
        },
        "id": "CWxRBqhEoH6Q",
        "outputId": "c8c87722-1347-4fa7-8e6a-97c28bc9cb8c"
      },
      "source": [
        "print(dir(wizard1))"
      ],
      "execution_count": 162,
      "outputs": [
        {
          "output_type": "stream",
          "name": "stdout",
          "text": [
            "['__class__', '__delattr__', '__dict__', '__dir__', '__doc__', '__eq__', '__format__', '__ge__', '__getattribute__', '__gt__', '__hash__', '__init__', '__init_subclass__', '__le__', '__lt__', '__module__', '__ne__', '__new__', '__reduce__', '__reduce_ex__', '__repr__', '__setattr__', '__sizeof__', '__str__', '__subclasshook__', '__weakref__', 'attack', 'email', 'name', 'power', 'sign_in']\n"
          ]
        }
      ]
    },
    {
      "cell_type": "code",
      "metadata": {
        "id": "8FrrmS4zoVpT"
      },
      "source": [
        ""
      ],
      "execution_count": null,
      "outputs": []
    }
  ]
}