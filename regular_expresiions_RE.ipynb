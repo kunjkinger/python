{
  "nbformat": 4,
  "nbformat_minor": 0,
  "metadata": {
    "colab": {
      "name": "regular_expresiions_RE",
      "provenance": [],
      "collapsed_sections": [],
      "authorship_tag": "ABX9TyODzuerjcw1GMYLdAiT5KOW",
      "include_colab_link": true
    },
    "kernelspec": {
      "name": "python3",
      "display_name": "Python 3"
    },
    "language_info": {
      "name": "python"
    }
  },
  "cells": [
    {
      "cell_type": "markdown",
      "metadata": {
        "id": "view-in-github",
        "colab_type": "text"
      },
      "source": [
        "<a href=\"https://colab.research.google.com/github/kunjkinger/kunjkinger/blob/main/regular_expresiions_RE.ipynb\" target=\"_parent\"><img src=\"https://colab.research.google.com/assets/colab-badge.svg\" alt=\"Open In Colab\"/></a>"
      ]
    },
    {
      "cell_type": "code",
      "metadata": {
        "id": "s5Vyeos-HkJH"
      },
      "source": [
        "import re"
      ],
      "execution_count": 1,
      "outputs": []
    },
    {
      "cell_type": "code",
      "metadata": {
        "id": "vggmjiWaHw3k"
      },
      "source": [
        "#allows to match any pattern in text"
      ],
      "execution_count": 2,
      "outputs": []
    },
    {
      "cell_type": "code",
      "metadata": {
        "id": "zwxpNl_4H2q6"
      },
      "source": [
        "text_to_search = '''\n",
        "abcdefghijklmnopqrstuwxyz\n",
        "ABCDEFGHIJKLMNOPQRSTUVWXYZ\n",
        "1234567890\n",
        "\n",
        "MetaCharacters (Need to be escaped):\n",
        ". ^ $ * + ? { } [ ] \\ | ( )\n",
        "\n",
        "Ha HaHa\n",
        "kunj.com\n",
        "\n",
        "742-349-0901\n",
        "123.555.1234\n",
        "\n",
        "Mr. Kunj\n",
        "Mr Raman\n",
        "Mr Sanjay\n",
        "Mrs. Akarshika\n",
        "Mrs. Emma\n",
        "Mrs.\n",
        "'''\n",
        "sentence = 'Start a sentence and then bring t to an end'\n"
      ],
      "execution_count": 25,
      "outputs": []
    },
    {
      "cell_type": "code",
      "metadata": {
        "id": "8v0GHbGaJ5kD"
      },
      "source": [
        "pattern = re.compile(r'abc')"
      ],
      "execution_count": 4,
      "outputs": []
    },
    {
      "cell_type": "code",
      "metadata": {
        "colab": {
          "base_uri": "https://localhost:8080/"
        },
        "id": "MLeG294LKPth",
        "outputId": "cb819329-2dd4-42eb-c0f8-d10e5eab2f72"
      },
      "source": [
        "matches = pattern.finditer(text_to_search)\n",
        "\n",
        "for match in matches:\n",
        "  print(match)"
      ],
      "execution_count": 5,
      "outputs": [
        {
          "output_type": "stream",
          "text": [
            "<re.Match object; span=(1, 4), match='abc'>\n"
          ],
          "name": "stdout"
        }
      ]
    },
    {
      "cell_type": "code",
      "metadata": {
        "colab": {
          "base_uri": "https://localhost:8080/"
        },
        "id": "a2L8kOBWKa46",
        "outputId": "5bba21af-3e04-447a-db8b-dc13a0e665cf"
      },
      "source": [
        "print(text_to_search[1:4])"
      ],
      "execution_count": 6,
      "outputs": [
        {
          "output_type": "stream",
          "text": [
            "abc\n"
          ],
          "name": "stdout"
        }
      ]
    },
    {
      "cell_type": "code",
      "metadata": {
        "colab": {
          "base_uri": "https://localhost:8080/"
        },
        "id": "p86Fjns5Kqvq",
        "outputId": "8e36e425-b205-4e05-bb01-4d4dceb859ba"
      },
      "source": [
        "pattern1 = re.compile(r'\\.') # searching for dot \\ this is used as a escape character and must be used for those\n",
        "match1 = pattern1.finditer(text_to_search)\n",
        "\n",
        "for match in match1:\n",
        "  print(match)"
      ],
      "execution_count": 8,
      "outputs": [
        {
          "output_type": "stream",
          "text": [
            "<re.Match object; span=(104, 105), match='.'>\n",
            "<re.Match object; span=(137, 138), match='.'>\n",
            "<re.Match object; span=(159, 160), match='.'>\n",
            "<re.Match object; span=(163, 164), match='.'>\n",
            "<re.Match object; span=(172, 173), match='.'>\n",
            "<re.Match object; span=(201, 202), match='.'>\n",
            "<re.Match object; span=(216, 217), match='.'>\n",
            "<re.Match object; span=(226, 227), match='.'>\n"
          ],
          "name": "stdout"
        }
      ]
    },
    {
      "cell_type": "code",
      "metadata": {
        "colab": {
          "base_uri": "https://localhost:8080/"
        },
        "id": "253nMd2MLYOx",
        "outputId": "b67b83f8-c77a-489c-e1f1-d0592525ec69"
      },
      "source": [
        "kunj = re.compile(r'kunj\\.com')\n",
        "\n",
        "match2 = kunj.finditer(text_to_search)\n",
        "for match in match2:\n",
        "  print(match)"
      ],
      "execution_count": 9,
      "outputs": [
        {
          "output_type": "stream",
          "text": [
            "<re.Match object; span=(133, 141), match='kunj.com'>\n"
          ],
          "name": "stdout"
        }
      ]
    },
    {
      "cell_type": "code",
      "metadata": {
        "colab": {
          "base_uri": "https://localhost:8080/"
        },
        "id": "2PIfOMxeLx6g",
        "outputId": "b8fe08a3-669c-49c0-998c-13726c78110b"
      },
      "source": [
        "pattern = re.compile(r'\\d') #\\d for digits\n",
        "matches = pattern.finditer(text_to_search)\n",
        "\n",
        "for match in matches:\n",
        "  print(match)"
      ],
      "execution_count": 11,
      "outputs": [
        {
          "output_type": "stream",
          "text": [
            "<re.Match object; span=(54, 55), match='1'>\n",
            "<re.Match object; span=(55, 56), match='2'>\n",
            "<re.Match object; span=(56, 57), match='3'>\n",
            "<re.Match object; span=(57, 58), match='4'>\n",
            "<re.Match object; span=(58, 59), match='5'>\n",
            "<re.Match object; span=(59, 60), match='6'>\n",
            "<re.Match object; span=(60, 61), match='7'>\n",
            "<re.Match object; span=(61, 62), match='8'>\n",
            "<re.Match object; span=(62, 63), match='9'>\n",
            "<re.Match object; span=(63, 64), match='0'>\n",
            "<re.Match object; span=(143, 144), match='7'>\n",
            "<re.Match object; span=(144, 145), match='4'>\n",
            "<re.Match object; span=(145, 146), match='2'>\n",
            "<re.Match object; span=(147, 148), match='3'>\n",
            "<re.Match object; span=(148, 149), match='4'>\n",
            "<re.Match object; span=(149, 150), match='9'>\n",
            "<re.Match object; span=(151, 152), match='0'>\n",
            "<re.Match object; span=(152, 153), match='9'>\n",
            "<re.Match object; span=(153, 154), match='0'>\n",
            "<re.Match object; span=(154, 155), match='1'>\n",
            "<re.Match object; span=(156, 157), match='1'>\n",
            "<re.Match object; span=(157, 158), match='2'>\n",
            "<re.Match object; span=(158, 159), match='3'>\n",
            "<re.Match object; span=(160, 161), match='5'>\n",
            "<re.Match object; span=(161, 162), match='5'>\n",
            "<re.Match object; span=(162, 163), match='5'>\n",
            "<re.Match object; span=(164, 165), match='1'>\n",
            "<re.Match object; span=(165, 166), match='2'>\n",
            "<re.Match object; span=(166, 167), match='3'>\n",
            "<re.Match object; span=(167, 168), match='4'>\n"
          ],
          "name": "stdout"
        }
      ]
    },
    {
      "cell_type": "code",
      "metadata": {
        "colab": {
          "base_uri": "https://localhost:8080/"
        },
        "id": "d1GzQ9ECSQsn",
        "outputId": "2e56e37a-22a9-4037-cff2-2a412872fabf"
      },
      "source": [
        "pattern = re.compile(r'\\D') #\\D not a digit\n",
        "matches = pattern.finditer(text_to_search)\n",
        "\n",
        "for match in matches:\n",
        "  print(match)"
      ],
      "execution_count": 12,
      "outputs": [
        {
          "output_type": "stream",
          "text": [
            "<re.Match object; span=(0, 1), match='\\n'>\n",
            "<re.Match object; span=(1, 2), match='a'>\n",
            "<re.Match object; span=(2, 3), match='b'>\n",
            "<re.Match object; span=(3, 4), match='c'>\n",
            "<re.Match object; span=(4, 5), match='d'>\n",
            "<re.Match object; span=(5, 6), match='e'>\n",
            "<re.Match object; span=(6, 7), match='f'>\n",
            "<re.Match object; span=(7, 8), match='g'>\n",
            "<re.Match object; span=(8, 9), match='h'>\n",
            "<re.Match object; span=(9, 10), match='i'>\n",
            "<re.Match object; span=(10, 11), match='j'>\n",
            "<re.Match object; span=(11, 12), match='k'>\n",
            "<re.Match object; span=(12, 13), match='l'>\n",
            "<re.Match object; span=(13, 14), match='m'>\n",
            "<re.Match object; span=(14, 15), match='n'>\n",
            "<re.Match object; span=(15, 16), match='o'>\n",
            "<re.Match object; span=(16, 17), match='p'>\n",
            "<re.Match object; span=(17, 18), match='q'>\n",
            "<re.Match object; span=(18, 19), match='r'>\n",
            "<re.Match object; span=(19, 20), match='s'>\n",
            "<re.Match object; span=(20, 21), match='t'>\n",
            "<re.Match object; span=(21, 22), match='u'>\n",
            "<re.Match object; span=(22, 23), match='w'>\n",
            "<re.Match object; span=(23, 24), match='x'>\n",
            "<re.Match object; span=(24, 25), match='y'>\n",
            "<re.Match object; span=(25, 26), match='z'>\n",
            "<re.Match object; span=(26, 27), match='\\n'>\n",
            "<re.Match object; span=(27, 28), match='A'>\n",
            "<re.Match object; span=(28, 29), match='B'>\n",
            "<re.Match object; span=(29, 30), match='C'>\n",
            "<re.Match object; span=(30, 31), match='D'>\n",
            "<re.Match object; span=(31, 32), match='E'>\n",
            "<re.Match object; span=(32, 33), match='F'>\n",
            "<re.Match object; span=(33, 34), match='G'>\n",
            "<re.Match object; span=(34, 35), match='H'>\n",
            "<re.Match object; span=(35, 36), match='I'>\n",
            "<re.Match object; span=(36, 37), match='J'>\n",
            "<re.Match object; span=(37, 38), match='K'>\n",
            "<re.Match object; span=(38, 39), match='L'>\n",
            "<re.Match object; span=(39, 40), match='M'>\n",
            "<re.Match object; span=(40, 41), match='N'>\n",
            "<re.Match object; span=(41, 42), match='O'>\n",
            "<re.Match object; span=(42, 43), match='P'>\n",
            "<re.Match object; span=(43, 44), match='Q'>\n",
            "<re.Match object; span=(44, 45), match='R'>\n",
            "<re.Match object; span=(45, 46), match='S'>\n",
            "<re.Match object; span=(46, 47), match='T'>\n",
            "<re.Match object; span=(47, 48), match='U'>\n",
            "<re.Match object; span=(48, 49), match='V'>\n",
            "<re.Match object; span=(49, 50), match='W'>\n",
            "<re.Match object; span=(50, 51), match='X'>\n",
            "<re.Match object; span=(51, 52), match='Y'>\n",
            "<re.Match object; span=(52, 53), match='Z'>\n",
            "<re.Match object; span=(53, 54), match='\\n'>\n",
            "<re.Match object; span=(64, 65), match='\\n'>\n",
            "<re.Match object; span=(65, 66), match='\\n'>\n",
            "<re.Match object; span=(66, 67), match='M'>\n",
            "<re.Match object; span=(67, 68), match='e'>\n",
            "<re.Match object; span=(68, 69), match='t'>\n",
            "<re.Match object; span=(69, 70), match='a'>\n",
            "<re.Match object; span=(70, 71), match='c'>\n",
            "<re.Match object; span=(71, 72), match='C'>\n",
            "<re.Match object; span=(72, 73), match='h'>\n",
            "<re.Match object; span=(73, 74), match='a'>\n",
            "<re.Match object; span=(74, 75), match='r'>\n",
            "<re.Match object; span=(75, 76), match='a'>\n",
            "<re.Match object; span=(76, 77), match='c'>\n",
            "<re.Match object; span=(77, 78), match='t'>\n",
            "<re.Match object; span=(78, 79), match='e'>\n",
            "<re.Match object; span=(79, 80), match='r'>\n",
            "<re.Match object; span=(80, 81), match='s'>\n",
            "<re.Match object; span=(81, 82), match=' '>\n",
            "<re.Match object; span=(82, 83), match='('>\n",
            "<re.Match object; span=(83, 84), match='N'>\n",
            "<re.Match object; span=(84, 85), match='e'>\n",
            "<re.Match object; span=(85, 86), match='e'>\n",
            "<re.Match object; span=(86, 87), match='d'>\n",
            "<re.Match object; span=(87, 88), match=' '>\n",
            "<re.Match object; span=(88, 89), match='t'>\n",
            "<re.Match object; span=(89, 90), match='o'>\n",
            "<re.Match object; span=(90, 91), match=' '>\n",
            "<re.Match object; span=(91, 92), match='b'>\n",
            "<re.Match object; span=(92, 93), match='e'>\n",
            "<re.Match object; span=(93, 94), match=' '>\n",
            "<re.Match object; span=(94, 95), match='e'>\n",
            "<re.Match object; span=(95, 96), match='s'>\n",
            "<re.Match object; span=(96, 97), match='c'>\n",
            "<re.Match object; span=(97, 98), match='a'>\n",
            "<re.Match object; span=(98, 99), match='p'>\n",
            "<re.Match object; span=(99, 100), match='e'>\n",
            "<re.Match object; span=(100, 101), match='d'>\n",
            "<re.Match object; span=(101, 102), match=')'>\n",
            "<re.Match object; span=(102, 103), match=':'>\n",
            "<re.Match object; span=(103, 104), match='\\n'>\n",
            "<re.Match object; span=(104, 105), match='.'>\n",
            "<re.Match object; span=(105, 106), match=' '>\n",
            "<re.Match object; span=(106, 107), match='^'>\n",
            "<re.Match object; span=(107, 108), match=' '>\n",
            "<re.Match object; span=(108, 109), match='$'>\n",
            "<re.Match object; span=(109, 110), match=' '>\n",
            "<re.Match object; span=(110, 111), match='*'>\n",
            "<re.Match object; span=(111, 112), match=' '>\n",
            "<re.Match object; span=(112, 113), match='+'>\n",
            "<re.Match object; span=(113, 114), match=' '>\n",
            "<re.Match object; span=(114, 115), match='?'>\n",
            "<re.Match object; span=(115, 116), match=' '>\n",
            "<re.Match object; span=(116, 117), match='{'>\n",
            "<re.Match object; span=(117, 118), match=' '>\n",
            "<re.Match object; span=(118, 119), match='}'>\n",
            "<re.Match object; span=(119, 120), match=' '>\n",
            "<re.Match object; span=(120, 121), match='['>\n",
            "<re.Match object; span=(121, 122), match=' '>\n",
            "<re.Match object; span=(122, 123), match=']'>\n",
            "<re.Match object; span=(123, 124), match=' '>\n",
            "<re.Match object; span=(124, 125), match='\\\\'>\n",
            "<re.Match object; span=(125, 126), match=' '>\n",
            "<re.Match object; span=(126, 127), match='|'>\n",
            "<re.Match object; span=(127, 128), match=' '>\n",
            "<re.Match object; span=(128, 129), match='('>\n",
            "<re.Match object; span=(129, 130), match=' '>\n",
            "<re.Match object; span=(130, 131), match=')'>\n",
            "<re.Match object; span=(131, 132), match='\\n'>\n",
            "<re.Match object; span=(132, 133), match='\\n'>\n",
            "<re.Match object; span=(133, 134), match='k'>\n",
            "<re.Match object; span=(134, 135), match='u'>\n",
            "<re.Match object; span=(135, 136), match='n'>\n",
            "<re.Match object; span=(136, 137), match='j'>\n",
            "<re.Match object; span=(137, 138), match='.'>\n",
            "<re.Match object; span=(138, 139), match='c'>\n",
            "<re.Match object; span=(139, 140), match='o'>\n",
            "<re.Match object; span=(140, 141), match='m'>\n",
            "<re.Match object; span=(141, 142), match='\\n'>\n",
            "<re.Match object; span=(142, 143), match='\\n'>\n",
            "<re.Match object; span=(146, 147), match='-'>\n",
            "<re.Match object; span=(150, 151), match='-'>\n",
            "<re.Match object; span=(155, 156), match='\\n'>\n",
            "<re.Match object; span=(159, 160), match='.'>\n",
            "<re.Match object; span=(163, 164), match='.'>\n",
            "<re.Match object; span=(168, 169), match='\\n'>\n",
            "<re.Match object; span=(169, 170), match='\\n'>\n",
            "<re.Match object; span=(170, 171), match='M'>\n",
            "<re.Match object; span=(171, 172), match='r'>\n",
            "<re.Match object; span=(172, 173), match='.'>\n",
            "<re.Match object; span=(173, 174), match=' '>\n",
            "<re.Match object; span=(174, 175), match='K'>\n",
            "<re.Match object; span=(175, 176), match='u'>\n",
            "<re.Match object; span=(176, 177), match='n'>\n",
            "<re.Match object; span=(177, 178), match='j'>\n",
            "<re.Match object; span=(178, 179), match='\\n'>\n",
            "<re.Match object; span=(179, 180), match='M'>\n",
            "<re.Match object; span=(180, 181), match='r'>\n",
            "<re.Match object; span=(181, 182), match=' '>\n",
            "<re.Match object; span=(182, 183), match='R'>\n",
            "<re.Match object; span=(183, 184), match='a'>\n",
            "<re.Match object; span=(184, 185), match='m'>\n",
            "<re.Match object; span=(185, 186), match='a'>\n",
            "<re.Match object; span=(186, 187), match='n'>\n",
            "<re.Match object; span=(187, 188), match='\\n'>\n",
            "<re.Match object; span=(188, 189), match='M'>\n",
            "<re.Match object; span=(189, 190), match='r'>\n",
            "<re.Match object; span=(190, 191), match=' '>\n",
            "<re.Match object; span=(191, 192), match='S'>\n",
            "<re.Match object; span=(192, 193), match='a'>\n",
            "<re.Match object; span=(193, 194), match='n'>\n",
            "<re.Match object; span=(194, 195), match='j'>\n",
            "<re.Match object; span=(195, 196), match='a'>\n",
            "<re.Match object; span=(196, 197), match='y'>\n",
            "<re.Match object; span=(197, 198), match='\\n'>\n",
            "<re.Match object; span=(198, 199), match='M'>\n",
            "<re.Match object; span=(199, 200), match='r'>\n",
            "<re.Match object; span=(200, 201), match='s'>\n",
            "<re.Match object; span=(201, 202), match='.'>\n",
            "<re.Match object; span=(202, 203), match=' '>\n",
            "<re.Match object; span=(203, 204), match='A'>\n",
            "<re.Match object; span=(204, 205), match='k'>\n",
            "<re.Match object; span=(205, 206), match='a'>\n",
            "<re.Match object; span=(206, 207), match='r'>\n",
            "<re.Match object; span=(207, 208), match='s'>\n",
            "<re.Match object; span=(208, 209), match='h'>\n",
            "<re.Match object; span=(209, 210), match='i'>\n",
            "<re.Match object; span=(210, 211), match='k'>\n",
            "<re.Match object; span=(211, 212), match='a'>\n",
            "<re.Match object; span=(212, 213), match='\\n'>\n",
            "<re.Match object; span=(213, 214), match='M'>\n",
            "<re.Match object; span=(214, 215), match='r'>\n",
            "<re.Match object; span=(215, 216), match='s'>\n",
            "<re.Match object; span=(216, 217), match='.'>\n",
            "<re.Match object; span=(217, 218), match=' '>\n",
            "<re.Match object; span=(218, 219), match='E'>\n",
            "<re.Match object; span=(219, 220), match='m'>\n",
            "<re.Match object; span=(220, 221), match='m'>\n",
            "<re.Match object; span=(221, 222), match='a'>\n",
            "<re.Match object; span=(222, 223), match='\\n'>\n",
            "<re.Match object; span=(223, 224), match='M'>\n",
            "<re.Match object; span=(224, 225), match='r'>\n",
            "<re.Match object; span=(225, 226), match='s'>\n",
            "<re.Match object; span=(226, 227), match='.'>\n",
            "<re.Match object; span=(227, 228), match='\\n'>\n"
          ],
          "name": "stdout"
        }
      ]
    },
    {
      "cell_type": "code",
      "metadata": {
        "colab": {
          "base_uri": "https://localhost:8080/"
        },
        "id": "-PhyhLPPSf19",
        "outputId": "f85a0b3c-897c-45cb-c57a-96991dccdbca"
      },
      "source": [
        "pattern = re.compile(r'\\w') #\\w word character (a-z,A-Z,0-9, _)\n",
        "matches = pattern.finditer(text_to_search)\n",
        "\n",
        "for match in matches:\n",
        "  print(match)"
      ],
      "execution_count": 13,
      "outputs": [
        {
          "output_type": "stream",
          "text": [
            "<re.Match object; span=(1, 2), match='a'>\n",
            "<re.Match object; span=(2, 3), match='b'>\n",
            "<re.Match object; span=(3, 4), match='c'>\n",
            "<re.Match object; span=(4, 5), match='d'>\n",
            "<re.Match object; span=(5, 6), match='e'>\n",
            "<re.Match object; span=(6, 7), match='f'>\n",
            "<re.Match object; span=(7, 8), match='g'>\n",
            "<re.Match object; span=(8, 9), match='h'>\n",
            "<re.Match object; span=(9, 10), match='i'>\n",
            "<re.Match object; span=(10, 11), match='j'>\n",
            "<re.Match object; span=(11, 12), match='k'>\n",
            "<re.Match object; span=(12, 13), match='l'>\n",
            "<re.Match object; span=(13, 14), match='m'>\n",
            "<re.Match object; span=(14, 15), match='n'>\n",
            "<re.Match object; span=(15, 16), match='o'>\n",
            "<re.Match object; span=(16, 17), match='p'>\n",
            "<re.Match object; span=(17, 18), match='q'>\n",
            "<re.Match object; span=(18, 19), match='r'>\n",
            "<re.Match object; span=(19, 20), match='s'>\n",
            "<re.Match object; span=(20, 21), match='t'>\n",
            "<re.Match object; span=(21, 22), match='u'>\n",
            "<re.Match object; span=(22, 23), match='w'>\n",
            "<re.Match object; span=(23, 24), match='x'>\n",
            "<re.Match object; span=(24, 25), match='y'>\n",
            "<re.Match object; span=(25, 26), match='z'>\n",
            "<re.Match object; span=(27, 28), match='A'>\n",
            "<re.Match object; span=(28, 29), match='B'>\n",
            "<re.Match object; span=(29, 30), match='C'>\n",
            "<re.Match object; span=(30, 31), match='D'>\n",
            "<re.Match object; span=(31, 32), match='E'>\n",
            "<re.Match object; span=(32, 33), match='F'>\n",
            "<re.Match object; span=(33, 34), match='G'>\n",
            "<re.Match object; span=(34, 35), match='H'>\n",
            "<re.Match object; span=(35, 36), match='I'>\n",
            "<re.Match object; span=(36, 37), match='J'>\n",
            "<re.Match object; span=(37, 38), match='K'>\n",
            "<re.Match object; span=(38, 39), match='L'>\n",
            "<re.Match object; span=(39, 40), match='M'>\n",
            "<re.Match object; span=(40, 41), match='N'>\n",
            "<re.Match object; span=(41, 42), match='O'>\n",
            "<re.Match object; span=(42, 43), match='P'>\n",
            "<re.Match object; span=(43, 44), match='Q'>\n",
            "<re.Match object; span=(44, 45), match='R'>\n",
            "<re.Match object; span=(45, 46), match='S'>\n",
            "<re.Match object; span=(46, 47), match='T'>\n",
            "<re.Match object; span=(47, 48), match='U'>\n",
            "<re.Match object; span=(48, 49), match='V'>\n",
            "<re.Match object; span=(49, 50), match='W'>\n",
            "<re.Match object; span=(50, 51), match='X'>\n",
            "<re.Match object; span=(51, 52), match='Y'>\n",
            "<re.Match object; span=(52, 53), match='Z'>\n",
            "<re.Match object; span=(54, 55), match='1'>\n",
            "<re.Match object; span=(55, 56), match='2'>\n",
            "<re.Match object; span=(56, 57), match='3'>\n",
            "<re.Match object; span=(57, 58), match='4'>\n",
            "<re.Match object; span=(58, 59), match='5'>\n",
            "<re.Match object; span=(59, 60), match='6'>\n",
            "<re.Match object; span=(60, 61), match='7'>\n",
            "<re.Match object; span=(61, 62), match='8'>\n",
            "<re.Match object; span=(62, 63), match='9'>\n",
            "<re.Match object; span=(63, 64), match='0'>\n",
            "<re.Match object; span=(66, 67), match='M'>\n",
            "<re.Match object; span=(67, 68), match='e'>\n",
            "<re.Match object; span=(68, 69), match='t'>\n",
            "<re.Match object; span=(69, 70), match='a'>\n",
            "<re.Match object; span=(70, 71), match='c'>\n",
            "<re.Match object; span=(71, 72), match='C'>\n",
            "<re.Match object; span=(72, 73), match='h'>\n",
            "<re.Match object; span=(73, 74), match='a'>\n",
            "<re.Match object; span=(74, 75), match='r'>\n",
            "<re.Match object; span=(75, 76), match='a'>\n",
            "<re.Match object; span=(76, 77), match='c'>\n",
            "<re.Match object; span=(77, 78), match='t'>\n",
            "<re.Match object; span=(78, 79), match='e'>\n",
            "<re.Match object; span=(79, 80), match='r'>\n",
            "<re.Match object; span=(80, 81), match='s'>\n",
            "<re.Match object; span=(83, 84), match='N'>\n",
            "<re.Match object; span=(84, 85), match='e'>\n",
            "<re.Match object; span=(85, 86), match='e'>\n",
            "<re.Match object; span=(86, 87), match='d'>\n",
            "<re.Match object; span=(88, 89), match='t'>\n",
            "<re.Match object; span=(89, 90), match='o'>\n",
            "<re.Match object; span=(91, 92), match='b'>\n",
            "<re.Match object; span=(92, 93), match='e'>\n",
            "<re.Match object; span=(94, 95), match='e'>\n",
            "<re.Match object; span=(95, 96), match='s'>\n",
            "<re.Match object; span=(96, 97), match='c'>\n",
            "<re.Match object; span=(97, 98), match='a'>\n",
            "<re.Match object; span=(98, 99), match='p'>\n",
            "<re.Match object; span=(99, 100), match='e'>\n",
            "<re.Match object; span=(100, 101), match='d'>\n",
            "<re.Match object; span=(133, 134), match='k'>\n",
            "<re.Match object; span=(134, 135), match='u'>\n",
            "<re.Match object; span=(135, 136), match='n'>\n",
            "<re.Match object; span=(136, 137), match='j'>\n",
            "<re.Match object; span=(138, 139), match='c'>\n",
            "<re.Match object; span=(139, 140), match='o'>\n",
            "<re.Match object; span=(140, 141), match='m'>\n",
            "<re.Match object; span=(143, 144), match='7'>\n",
            "<re.Match object; span=(144, 145), match='4'>\n",
            "<re.Match object; span=(145, 146), match='2'>\n",
            "<re.Match object; span=(147, 148), match='3'>\n",
            "<re.Match object; span=(148, 149), match='4'>\n",
            "<re.Match object; span=(149, 150), match='9'>\n",
            "<re.Match object; span=(151, 152), match='0'>\n",
            "<re.Match object; span=(152, 153), match='9'>\n",
            "<re.Match object; span=(153, 154), match='0'>\n",
            "<re.Match object; span=(154, 155), match='1'>\n",
            "<re.Match object; span=(156, 157), match='1'>\n",
            "<re.Match object; span=(157, 158), match='2'>\n",
            "<re.Match object; span=(158, 159), match='3'>\n",
            "<re.Match object; span=(160, 161), match='5'>\n",
            "<re.Match object; span=(161, 162), match='5'>\n",
            "<re.Match object; span=(162, 163), match='5'>\n",
            "<re.Match object; span=(164, 165), match='1'>\n",
            "<re.Match object; span=(165, 166), match='2'>\n",
            "<re.Match object; span=(166, 167), match='3'>\n",
            "<re.Match object; span=(167, 168), match='4'>\n",
            "<re.Match object; span=(170, 171), match='M'>\n",
            "<re.Match object; span=(171, 172), match='r'>\n",
            "<re.Match object; span=(174, 175), match='K'>\n",
            "<re.Match object; span=(175, 176), match='u'>\n",
            "<re.Match object; span=(176, 177), match='n'>\n",
            "<re.Match object; span=(177, 178), match='j'>\n",
            "<re.Match object; span=(179, 180), match='M'>\n",
            "<re.Match object; span=(180, 181), match='r'>\n",
            "<re.Match object; span=(182, 183), match='R'>\n",
            "<re.Match object; span=(183, 184), match='a'>\n",
            "<re.Match object; span=(184, 185), match='m'>\n",
            "<re.Match object; span=(185, 186), match='a'>\n",
            "<re.Match object; span=(186, 187), match='n'>\n",
            "<re.Match object; span=(188, 189), match='M'>\n",
            "<re.Match object; span=(189, 190), match='r'>\n",
            "<re.Match object; span=(191, 192), match='S'>\n",
            "<re.Match object; span=(192, 193), match='a'>\n",
            "<re.Match object; span=(193, 194), match='n'>\n",
            "<re.Match object; span=(194, 195), match='j'>\n",
            "<re.Match object; span=(195, 196), match='a'>\n",
            "<re.Match object; span=(196, 197), match='y'>\n",
            "<re.Match object; span=(198, 199), match='M'>\n",
            "<re.Match object; span=(199, 200), match='r'>\n",
            "<re.Match object; span=(200, 201), match='s'>\n",
            "<re.Match object; span=(203, 204), match='A'>\n",
            "<re.Match object; span=(204, 205), match='k'>\n",
            "<re.Match object; span=(205, 206), match='a'>\n",
            "<re.Match object; span=(206, 207), match='r'>\n",
            "<re.Match object; span=(207, 208), match='s'>\n",
            "<re.Match object; span=(208, 209), match='h'>\n",
            "<re.Match object; span=(209, 210), match='i'>\n",
            "<re.Match object; span=(210, 211), match='k'>\n",
            "<re.Match object; span=(211, 212), match='a'>\n",
            "<re.Match object; span=(213, 214), match='M'>\n",
            "<re.Match object; span=(214, 215), match='r'>\n",
            "<re.Match object; span=(215, 216), match='s'>\n",
            "<re.Match object; span=(218, 219), match='E'>\n",
            "<re.Match object; span=(219, 220), match='m'>\n",
            "<re.Match object; span=(220, 221), match='m'>\n",
            "<re.Match object; span=(221, 222), match='a'>\n",
            "<re.Match object; span=(223, 224), match='M'>\n",
            "<re.Match object; span=(224, 225), match='r'>\n",
            "<re.Match object; span=(225, 226), match='s'>\n"
          ],
          "name": "stdout"
        }
      ]
    },
    {
      "cell_type": "code",
      "metadata": {
        "colab": {
          "base_uri": "https://localhost:8080/"
        },
        "id": "AnCTjkq2SrN1",
        "outputId": "31ed2d75-d4e3-415d-b304-980b54d00052"
      },
      "source": [
        "pattern = re.compile(r'\\W') #\\w not a word character\n",
        "matches = pattern.finditer(text_to_search)\n",
        "\n",
        "for match in matches:\n",
        "  print(match)"
      ],
      "execution_count": 14,
      "outputs": [
        {
          "output_type": "stream",
          "text": [
            "<re.Match object; span=(0, 1), match='\\n'>\n",
            "<re.Match object; span=(26, 27), match='\\n'>\n",
            "<re.Match object; span=(53, 54), match='\\n'>\n",
            "<re.Match object; span=(64, 65), match='\\n'>\n",
            "<re.Match object; span=(65, 66), match='\\n'>\n",
            "<re.Match object; span=(81, 82), match=' '>\n",
            "<re.Match object; span=(82, 83), match='('>\n",
            "<re.Match object; span=(87, 88), match=' '>\n",
            "<re.Match object; span=(90, 91), match=' '>\n",
            "<re.Match object; span=(93, 94), match=' '>\n",
            "<re.Match object; span=(101, 102), match=')'>\n",
            "<re.Match object; span=(102, 103), match=':'>\n",
            "<re.Match object; span=(103, 104), match='\\n'>\n",
            "<re.Match object; span=(104, 105), match='.'>\n",
            "<re.Match object; span=(105, 106), match=' '>\n",
            "<re.Match object; span=(106, 107), match='^'>\n",
            "<re.Match object; span=(107, 108), match=' '>\n",
            "<re.Match object; span=(108, 109), match='$'>\n",
            "<re.Match object; span=(109, 110), match=' '>\n",
            "<re.Match object; span=(110, 111), match='*'>\n",
            "<re.Match object; span=(111, 112), match=' '>\n",
            "<re.Match object; span=(112, 113), match='+'>\n",
            "<re.Match object; span=(113, 114), match=' '>\n",
            "<re.Match object; span=(114, 115), match='?'>\n",
            "<re.Match object; span=(115, 116), match=' '>\n",
            "<re.Match object; span=(116, 117), match='{'>\n",
            "<re.Match object; span=(117, 118), match=' '>\n",
            "<re.Match object; span=(118, 119), match='}'>\n",
            "<re.Match object; span=(119, 120), match=' '>\n",
            "<re.Match object; span=(120, 121), match='['>\n",
            "<re.Match object; span=(121, 122), match=' '>\n",
            "<re.Match object; span=(122, 123), match=']'>\n",
            "<re.Match object; span=(123, 124), match=' '>\n",
            "<re.Match object; span=(124, 125), match='\\\\'>\n",
            "<re.Match object; span=(125, 126), match=' '>\n",
            "<re.Match object; span=(126, 127), match='|'>\n",
            "<re.Match object; span=(127, 128), match=' '>\n",
            "<re.Match object; span=(128, 129), match='('>\n",
            "<re.Match object; span=(129, 130), match=' '>\n",
            "<re.Match object; span=(130, 131), match=')'>\n",
            "<re.Match object; span=(131, 132), match='\\n'>\n",
            "<re.Match object; span=(132, 133), match='\\n'>\n",
            "<re.Match object; span=(137, 138), match='.'>\n",
            "<re.Match object; span=(141, 142), match='\\n'>\n",
            "<re.Match object; span=(142, 143), match='\\n'>\n",
            "<re.Match object; span=(146, 147), match='-'>\n",
            "<re.Match object; span=(150, 151), match='-'>\n",
            "<re.Match object; span=(155, 156), match='\\n'>\n",
            "<re.Match object; span=(159, 160), match='.'>\n",
            "<re.Match object; span=(163, 164), match='.'>\n",
            "<re.Match object; span=(168, 169), match='\\n'>\n",
            "<re.Match object; span=(169, 170), match='\\n'>\n",
            "<re.Match object; span=(172, 173), match='.'>\n",
            "<re.Match object; span=(173, 174), match=' '>\n",
            "<re.Match object; span=(178, 179), match='\\n'>\n",
            "<re.Match object; span=(181, 182), match=' '>\n",
            "<re.Match object; span=(187, 188), match='\\n'>\n",
            "<re.Match object; span=(190, 191), match=' '>\n",
            "<re.Match object; span=(197, 198), match='\\n'>\n",
            "<re.Match object; span=(201, 202), match='.'>\n",
            "<re.Match object; span=(202, 203), match=' '>\n",
            "<re.Match object; span=(212, 213), match='\\n'>\n",
            "<re.Match object; span=(216, 217), match='.'>\n",
            "<re.Match object; span=(217, 218), match=' '>\n",
            "<re.Match object; span=(222, 223), match='\\n'>\n",
            "<re.Match object; span=(226, 227), match='.'>\n",
            "<re.Match object; span=(227, 228), match='\\n'>\n"
          ],
          "name": "stdout"
        }
      ]
    },
    {
      "cell_type": "code",
      "metadata": {
        "colab": {
          "base_uri": "https://localhost:8080/"
        },
        "id": "CUSbPP39S1_t",
        "outputId": "259c579d-01ca-48fc-b956-3c7f8653582f"
      },
      "source": [
        "pattern = re.compile(r'\\s') #\\s white space ( space, tab, newliine)\n",
        "matches = pattern.finditer(text_to_search)\n",
        "\n",
        "for match in matches:\n",
        "  print(match)"
      ],
      "execution_count": 15,
      "outputs": [
        {
          "output_type": "stream",
          "text": [
            "<re.Match object; span=(0, 1), match='\\n'>\n",
            "<re.Match object; span=(26, 27), match='\\n'>\n",
            "<re.Match object; span=(53, 54), match='\\n'>\n",
            "<re.Match object; span=(64, 65), match='\\n'>\n",
            "<re.Match object; span=(65, 66), match='\\n'>\n",
            "<re.Match object; span=(81, 82), match=' '>\n",
            "<re.Match object; span=(87, 88), match=' '>\n",
            "<re.Match object; span=(90, 91), match=' '>\n",
            "<re.Match object; span=(93, 94), match=' '>\n",
            "<re.Match object; span=(103, 104), match='\\n'>\n",
            "<re.Match object; span=(105, 106), match=' '>\n",
            "<re.Match object; span=(107, 108), match=' '>\n",
            "<re.Match object; span=(109, 110), match=' '>\n",
            "<re.Match object; span=(111, 112), match=' '>\n",
            "<re.Match object; span=(113, 114), match=' '>\n",
            "<re.Match object; span=(115, 116), match=' '>\n",
            "<re.Match object; span=(117, 118), match=' '>\n",
            "<re.Match object; span=(119, 120), match=' '>\n",
            "<re.Match object; span=(121, 122), match=' '>\n",
            "<re.Match object; span=(123, 124), match=' '>\n",
            "<re.Match object; span=(125, 126), match=' '>\n",
            "<re.Match object; span=(127, 128), match=' '>\n",
            "<re.Match object; span=(129, 130), match=' '>\n",
            "<re.Match object; span=(131, 132), match='\\n'>\n",
            "<re.Match object; span=(132, 133), match='\\n'>\n",
            "<re.Match object; span=(141, 142), match='\\n'>\n",
            "<re.Match object; span=(142, 143), match='\\n'>\n",
            "<re.Match object; span=(155, 156), match='\\n'>\n",
            "<re.Match object; span=(168, 169), match='\\n'>\n",
            "<re.Match object; span=(169, 170), match='\\n'>\n",
            "<re.Match object; span=(173, 174), match=' '>\n",
            "<re.Match object; span=(178, 179), match='\\n'>\n",
            "<re.Match object; span=(181, 182), match=' '>\n",
            "<re.Match object; span=(187, 188), match='\\n'>\n",
            "<re.Match object; span=(190, 191), match=' '>\n",
            "<re.Match object; span=(197, 198), match='\\n'>\n",
            "<re.Match object; span=(202, 203), match=' '>\n",
            "<re.Match object; span=(212, 213), match='\\n'>\n",
            "<re.Match object; span=(217, 218), match=' '>\n",
            "<re.Match object; span=(222, 223), match='\\n'>\n",
            "<re.Match object; span=(227, 228), match='\\n'>\n"
          ],
          "name": "stdout"
        }
      ]
    },
    {
      "cell_type": "code",
      "metadata": {
        "colab": {
          "base_uri": "https://localhost:8080/"
        },
        "id": "USRnVZBRTCAL",
        "outputId": "7f894511-f6d2-4967-8dc5-8286091fcdb6"
      },
      "source": [
        "pattern = re.compile(r'\\S') #\\S not a white space\n",
        "matches = pattern.finditer(text_to_search)\n",
        "\n",
        "for match in matches:\n",
        "  print(match)"
      ],
      "execution_count": 16,
      "outputs": [
        {
          "output_type": "stream",
          "text": [
            "<re.Match object; span=(1, 2), match='a'>\n",
            "<re.Match object; span=(2, 3), match='b'>\n",
            "<re.Match object; span=(3, 4), match='c'>\n",
            "<re.Match object; span=(4, 5), match='d'>\n",
            "<re.Match object; span=(5, 6), match='e'>\n",
            "<re.Match object; span=(6, 7), match='f'>\n",
            "<re.Match object; span=(7, 8), match='g'>\n",
            "<re.Match object; span=(8, 9), match='h'>\n",
            "<re.Match object; span=(9, 10), match='i'>\n",
            "<re.Match object; span=(10, 11), match='j'>\n",
            "<re.Match object; span=(11, 12), match='k'>\n",
            "<re.Match object; span=(12, 13), match='l'>\n",
            "<re.Match object; span=(13, 14), match='m'>\n",
            "<re.Match object; span=(14, 15), match='n'>\n",
            "<re.Match object; span=(15, 16), match='o'>\n",
            "<re.Match object; span=(16, 17), match='p'>\n",
            "<re.Match object; span=(17, 18), match='q'>\n",
            "<re.Match object; span=(18, 19), match='r'>\n",
            "<re.Match object; span=(19, 20), match='s'>\n",
            "<re.Match object; span=(20, 21), match='t'>\n",
            "<re.Match object; span=(21, 22), match='u'>\n",
            "<re.Match object; span=(22, 23), match='w'>\n",
            "<re.Match object; span=(23, 24), match='x'>\n",
            "<re.Match object; span=(24, 25), match='y'>\n",
            "<re.Match object; span=(25, 26), match='z'>\n",
            "<re.Match object; span=(27, 28), match='A'>\n",
            "<re.Match object; span=(28, 29), match='B'>\n",
            "<re.Match object; span=(29, 30), match='C'>\n",
            "<re.Match object; span=(30, 31), match='D'>\n",
            "<re.Match object; span=(31, 32), match='E'>\n",
            "<re.Match object; span=(32, 33), match='F'>\n",
            "<re.Match object; span=(33, 34), match='G'>\n",
            "<re.Match object; span=(34, 35), match='H'>\n",
            "<re.Match object; span=(35, 36), match='I'>\n",
            "<re.Match object; span=(36, 37), match='J'>\n",
            "<re.Match object; span=(37, 38), match='K'>\n",
            "<re.Match object; span=(38, 39), match='L'>\n",
            "<re.Match object; span=(39, 40), match='M'>\n",
            "<re.Match object; span=(40, 41), match='N'>\n",
            "<re.Match object; span=(41, 42), match='O'>\n",
            "<re.Match object; span=(42, 43), match='P'>\n",
            "<re.Match object; span=(43, 44), match='Q'>\n",
            "<re.Match object; span=(44, 45), match='R'>\n",
            "<re.Match object; span=(45, 46), match='S'>\n",
            "<re.Match object; span=(46, 47), match='T'>\n",
            "<re.Match object; span=(47, 48), match='U'>\n",
            "<re.Match object; span=(48, 49), match='V'>\n",
            "<re.Match object; span=(49, 50), match='W'>\n",
            "<re.Match object; span=(50, 51), match='X'>\n",
            "<re.Match object; span=(51, 52), match='Y'>\n",
            "<re.Match object; span=(52, 53), match='Z'>\n",
            "<re.Match object; span=(54, 55), match='1'>\n",
            "<re.Match object; span=(55, 56), match='2'>\n",
            "<re.Match object; span=(56, 57), match='3'>\n",
            "<re.Match object; span=(57, 58), match='4'>\n",
            "<re.Match object; span=(58, 59), match='5'>\n",
            "<re.Match object; span=(59, 60), match='6'>\n",
            "<re.Match object; span=(60, 61), match='7'>\n",
            "<re.Match object; span=(61, 62), match='8'>\n",
            "<re.Match object; span=(62, 63), match='9'>\n",
            "<re.Match object; span=(63, 64), match='0'>\n",
            "<re.Match object; span=(66, 67), match='M'>\n",
            "<re.Match object; span=(67, 68), match='e'>\n",
            "<re.Match object; span=(68, 69), match='t'>\n",
            "<re.Match object; span=(69, 70), match='a'>\n",
            "<re.Match object; span=(70, 71), match='c'>\n",
            "<re.Match object; span=(71, 72), match='C'>\n",
            "<re.Match object; span=(72, 73), match='h'>\n",
            "<re.Match object; span=(73, 74), match='a'>\n",
            "<re.Match object; span=(74, 75), match='r'>\n",
            "<re.Match object; span=(75, 76), match='a'>\n",
            "<re.Match object; span=(76, 77), match='c'>\n",
            "<re.Match object; span=(77, 78), match='t'>\n",
            "<re.Match object; span=(78, 79), match='e'>\n",
            "<re.Match object; span=(79, 80), match='r'>\n",
            "<re.Match object; span=(80, 81), match='s'>\n",
            "<re.Match object; span=(82, 83), match='('>\n",
            "<re.Match object; span=(83, 84), match='N'>\n",
            "<re.Match object; span=(84, 85), match='e'>\n",
            "<re.Match object; span=(85, 86), match='e'>\n",
            "<re.Match object; span=(86, 87), match='d'>\n",
            "<re.Match object; span=(88, 89), match='t'>\n",
            "<re.Match object; span=(89, 90), match='o'>\n",
            "<re.Match object; span=(91, 92), match='b'>\n",
            "<re.Match object; span=(92, 93), match='e'>\n",
            "<re.Match object; span=(94, 95), match='e'>\n",
            "<re.Match object; span=(95, 96), match='s'>\n",
            "<re.Match object; span=(96, 97), match='c'>\n",
            "<re.Match object; span=(97, 98), match='a'>\n",
            "<re.Match object; span=(98, 99), match='p'>\n",
            "<re.Match object; span=(99, 100), match='e'>\n",
            "<re.Match object; span=(100, 101), match='d'>\n",
            "<re.Match object; span=(101, 102), match=')'>\n",
            "<re.Match object; span=(102, 103), match=':'>\n",
            "<re.Match object; span=(104, 105), match='.'>\n",
            "<re.Match object; span=(106, 107), match='^'>\n",
            "<re.Match object; span=(108, 109), match='$'>\n",
            "<re.Match object; span=(110, 111), match='*'>\n",
            "<re.Match object; span=(112, 113), match='+'>\n",
            "<re.Match object; span=(114, 115), match='?'>\n",
            "<re.Match object; span=(116, 117), match='{'>\n",
            "<re.Match object; span=(118, 119), match='}'>\n",
            "<re.Match object; span=(120, 121), match='['>\n",
            "<re.Match object; span=(122, 123), match=']'>\n",
            "<re.Match object; span=(124, 125), match='\\\\'>\n",
            "<re.Match object; span=(126, 127), match='|'>\n",
            "<re.Match object; span=(128, 129), match='('>\n",
            "<re.Match object; span=(130, 131), match=')'>\n",
            "<re.Match object; span=(133, 134), match='k'>\n",
            "<re.Match object; span=(134, 135), match='u'>\n",
            "<re.Match object; span=(135, 136), match='n'>\n",
            "<re.Match object; span=(136, 137), match='j'>\n",
            "<re.Match object; span=(137, 138), match='.'>\n",
            "<re.Match object; span=(138, 139), match='c'>\n",
            "<re.Match object; span=(139, 140), match='o'>\n",
            "<re.Match object; span=(140, 141), match='m'>\n",
            "<re.Match object; span=(143, 144), match='7'>\n",
            "<re.Match object; span=(144, 145), match='4'>\n",
            "<re.Match object; span=(145, 146), match='2'>\n",
            "<re.Match object; span=(146, 147), match='-'>\n",
            "<re.Match object; span=(147, 148), match='3'>\n",
            "<re.Match object; span=(148, 149), match='4'>\n",
            "<re.Match object; span=(149, 150), match='9'>\n",
            "<re.Match object; span=(150, 151), match='-'>\n",
            "<re.Match object; span=(151, 152), match='0'>\n",
            "<re.Match object; span=(152, 153), match='9'>\n",
            "<re.Match object; span=(153, 154), match='0'>\n",
            "<re.Match object; span=(154, 155), match='1'>\n",
            "<re.Match object; span=(156, 157), match='1'>\n",
            "<re.Match object; span=(157, 158), match='2'>\n",
            "<re.Match object; span=(158, 159), match='3'>\n",
            "<re.Match object; span=(159, 160), match='.'>\n",
            "<re.Match object; span=(160, 161), match='5'>\n",
            "<re.Match object; span=(161, 162), match='5'>\n",
            "<re.Match object; span=(162, 163), match='5'>\n",
            "<re.Match object; span=(163, 164), match='.'>\n",
            "<re.Match object; span=(164, 165), match='1'>\n",
            "<re.Match object; span=(165, 166), match='2'>\n",
            "<re.Match object; span=(166, 167), match='3'>\n",
            "<re.Match object; span=(167, 168), match='4'>\n",
            "<re.Match object; span=(170, 171), match='M'>\n",
            "<re.Match object; span=(171, 172), match='r'>\n",
            "<re.Match object; span=(172, 173), match='.'>\n",
            "<re.Match object; span=(174, 175), match='K'>\n",
            "<re.Match object; span=(175, 176), match='u'>\n",
            "<re.Match object; span=(176, 177), match='n'>\n",
            "<re.Match object; span=(177, 178), match='j'>\n",
            "<re.Match object; span=(179, 180), match='M'>\n",
            "<re.Match object; span=(180, 181), match='r'>\n",
            "<re.Match object; span=(182, 183), match='R'>\n",
            "<re.Match object; span=(183, 184), match='a'>\n",
            "<re.Match object; span=(184, 185), match='m'>\n",
            "<re.Match object; span=(185, 186), match='a'>\n",
            "<re.Match object; span=(186, 187), match='n'>\n",
            "<re.Match object; span=(188, 189), match='M'>\n",
            "<re.Match object; span=(189, 190), match='r'>\n",
            "<re.Match object; span=(191, 192), match='S'>\n",
            "<re.Match object; span=(192, 193), match='a'>\n",
            "<re.Match object; span=(193, 194), match='n'>\n",
            "<re.Match object; span=(194, 195), match='j'>\n",
            "<re.Match object; span=(195, 196), match='a'>\n",
            "<re.Match object; span=(196, 197), match='y'>\n",
            "<re.Match object; span=(198, 199), match='M'>\n",
            "<re.Match object; span=(199, 200), match='r'>\n",
            "<re.Match object; span=(200, 201), match='s'>\n",
            "<re.Match object; span=(201, 202), match='.'>\n",
            "<re.Match object; span=(203, 204), match='A'>\n",
            "<re.Match object; span=(204, 205), match='k'>\n",
            "<re.Match object; span=(205, 206), match='a'>\n",
            "<re.Match object; span=(206, 207), match='r'>\n",
            "<re.Match object; span=(207, 208), match='s'>\n",
            "<re.Match object; span=(208, 209), match='h'>\n",
            "<re.Match object; span=(209, 210), match='i'>\n",
            "<re.Match object; span=(210, 211), match='k'>\n",
            "<re.Match object; span=(211, 212), match='a'>\n",
            "<re.Match object; span=(213, 214), match='M'>\n",
            "<re.Match object; span=(214, 215), match='r'>\n",
            "<re.Match object; span=(215, 216), match='s'>\n",
            "<re.Match object; span=(216, 217), match='.'>\n",
            "<re.Match object; span=(218, 219), match='E'>\n",
            "<re.Match object; span=(219, 220), match='m'>\n",
            "<re.Match object; span=(220, 221), match='m'>\n",
            "<re.Match object; span=(221, 222), match='a'>\n",
            "<re.Match object; span=(223, 224), match='M'>\n",
            "<re.Match object; span=(224, 225), match='r'>\n",
            "<re.Match object; span=(225, 226), match='s'>\n",
            "<re.Match object; span=(226, 227), match='.'>\n"
          ],
          "name": "stdout"
        }
      ]
    },
    {
      "cell_type": "code",
      "metadata": {
        "id": "9P-68AHxTIr8"
      },
      "source": [
        "#anchors \n",
        "# \\b for word boundary\n",
        "#\\B not a word boundary\n",
        "# ^ beginning of a string\n",
        "# $ End of a string\n",
        "# [] mathces characters in brackets\n",
        "# [^ ] Matches characters not in brackets"
      ],
      "execution_count": 18,
      "outputs": []
    },
    {
      "cell_type": "code",
      "metadata": {
        "colab": {
          "base_uri": "https://localhost:8080/"
        },
        "id": "XV62zlTHTPwL",
        "outputId": "4531c4e4-7670-449d-a18f-c744dffd3553"
      },
      "source": [
        "pattern = re.compile(r'\\bHa') #\\b printing Ha Ha-- not -- ones because its considering as a single word \n",
        "matches  = pattern.finditer(text_to_search)\n",
        "\n",
        "for match in matches:\n",
        "  print(match)"
      ],
      "execution_count": 27,
      "outputs": [
        {
          "output_type": "stream",
          "text": [
            "<re.Match object; span=(132, 134), match='Ha'>\n",
            "<re.Match object; span=(135, 137), match='Ha'>\n"
          ],
          "name": "stdout"
        }
      ]
    },
    {
      "cell_type": "code",
      "metadata": {
        "colab": {
          "base_uri": "https://localhost:8080/"
        },
        "id": "ZKKWVoVXTtfD",
        "outputId": "938cfddb-d50e-4a9b-f9ff-5dcf40afe140"
      },
      "source": [
        "pattern = re.compile(r'\\BHa') #\\B printing -- --Ha not -- ones  \n",
        "matches  = pattern.finditer(text_to_search)\n",
        "\n",
        "for match in matches:\n",
        "  print(match)"
      ],
      "execution_count": 28,
      "outputs": [
        {
          "output_type": "stream",
          "text": [
            "<re.Match object; span=(137, 139), match='Ha'>\n"
          ],
          "name": "stdout"
        }
      ]
    },
    {
      "cell_type": "code",
      "metadata": {
        "colab": {
          "base_uri": "https://localhost:8080/"
        },
        "id": "rxa6YEmyUiJk",
        "outputId": "29492785-3242-44c7-c9e5-6b48b603fbc7"
      },
      "source": [
        "pattern = re.compile(r'^Start')\n",
        "matches  = pattern.finditer(sentence)\n",
        "\n",
        "for match in matches:\n",
        "  print(match)"
      ],
      "execution_count": 29,
      "outputs": [
        {
          "output_type": "stream",
          "text": [
            "<re.Match object; span=(0, 5), match='Start'>\n"
          ],
          "name": "stdout"
        }
      ]
    },
    {
      "cell_type": "code",
      "metadata": {
        "colab": {
          "base_uri": "https://localhost:8080/"
        },
        "id": "9aUK7QpcU38K",
        "outputId": "7b19b4bd-d8d4-4a3d-84b2-937c510ae1af"
      },
      "source": [
        "pattern = re.compile(r'end$')\n",
        "matches  = pattern.finditer(sentence)\n",
        "\n",
        "for match in matches:\n",
        "  print(match)"
      ],
      "execution_count": 32,
      "outputs": [
        {
          "output_type": "stream",
          "text": [
            "<re.Match object; span=(40, 43), match='end'>\n"
          ],
          "name": "stdout"
        }
      ]
    },
    {
      "cell_type": "code",
      "metadata": {
        "id": "bEMSQ2iWVDQD"
      },
      "source": [
        ""
      ],
      "execution_count": null,
      "outputs": []
    },
    {
      "cell_type": "code",
      "metadata": {
        "id": "NINhyuKyVZBx"
      },
      "source": [
        ""
      ],
      "execution_count": null,
      "outputs": []
    },
    {
      "cell_type": "code",
      "metadata": {
        "id": "tM2HFOL7VZEx"
      },
      "source": [
        ""
      ],
      "execution_count": null,
      "outputs": []
    },
    {
      "cell_type": "code",
      "metadata": {
        "id": "QGRxUwdMVZM7"
      },
      "source": [
        ""
      ],
      "execution_count": null,
      "outputs": []
    },
    {
      "cell_type": "code",
      "metadata": {
        "colab": {
          "base_uri": "https://localhost:8080/"
        },
        "id": "0OZv_SyPVZQa",
        "outputId": "307f9f9a-cd9e-459b-d343-e4b59acb5cad"
      },
      "source": [
        "pattern = re.compile(r'\\d\\d\\d.\\d\\d\\d.\\d\\d\\d\\d')\n",
        "matches = pattern.finditer(text_to_search)\n",
        "\n",
        "for match in matches:\n",
        "  print(match)"
      ],
      "execution_count": 35,
      "outputs": [
        {
          "output_type": "stream",
          "text": [
            "<re.Match object; span=(150, 162), match='742-349-0901'>\n",
            "<re.Match object; span=(163, 175), match='123.555.1234'>\n"
          ],
          "name": "stdout"
        }
      ]
    },
    {
      "cell_type": "code",
      "metadata": {
        "colab": {
          "base_uri": "https://localhost:8080/"
        },
        "id": "2LausAOPVd0U",
        "outputId": "bbd57fa1-4da0-4f94-8fc9-20218d857af8"
      },
      "source": [
        "with open('data.txt','r') as f:\n",
        "  contents = f.read()\n",
        "\n",
        "  matches = pattern.finditer(contents)\n",
        "\n",
        "  for match in matches:\n",
        "    print(match)"
      ],
      "execution_count": 40,
      "outputs": [
        {
          "output_type": "stream",
          "text": [
            "<re.Match object; span=(12, 24), match='615-555-7164'>\n",
            "<re.Match object; span=(102, 114), match='800-555-5669'>\n",
            "<re.Match object; span=(191, 203), match='560-555-5153'>\n",
            "<re.Match object; span=(281, 293), match='900-555-9340'>\n",
            "<re.Match object; span=(378, 390), match='714-555-7405'>\n",
            "<re.Match object; span=(467, 479), match='800-555-6771'>\n",
            "<re.Match object; span=(557, 569), match='783-555-4799'>\n",
            "<re.Match object; span=(647, 659), match='516-555-4615'>\n",
            "<re.Match object; span=(740, 752), match='127-555-1867'>\n",
            "<re.Match object; span=(829, 841), match='608-555-4938'>\n",
            "<re.Match object; span=(915, 927), match='568-555-6051'>\n",
            "<re.Match object; span=(1003, 1015), match='292-555-1875'>\n",
            "<re.Match object; span=(1091, 1103), match='900-555-3205'>\n",
            "<re.Match object; span=(1180, 1192), match='614-555-1166'>\n",
            "<re.Match object; span=(1269, 1281), match='530-555-2676'>\n",
            "<re.Match object; span=(1355, 1367), match='470-555-2750'>\n",
            "<re.Match object; span=(1439, 1451), match='800-555-6089'>\n",
            "<re.Match object; span=(1526, 1538), match='880-555-8319'>\n",
            "<re.Match object; span=(1614, 1626), match='777-555-8378'>\n",
            "<re.Match object; span=(1697, 1709), match='998-555-7385'>\n",
            "<re.Match object; span=(1790, 1802), match='800-555-7100'>\n",
            "<re.Match object; span=(1874, 1886), match='903-555-8277'>\n",
            "<re.Match object; span=(1962, 1974), match='196-555-5674'>\n",
            "<re.Match object; span=(2051, 2063), match='900-555-5118'>\n",
            "<re.Match object; span=(2135, 2147), match='905-555-1630'>\n",
            "<re.Match object; span=(2216, 2228), match='203-555-3475'>\n",
            "<re.Match object; span=(2300, 2312), match='884-555-8444'>\n",
            "<re.Match object; span=(2387, 2399), match='904-555-8559'>\n",
            "<re.Match object; span=(2475, 2487), match='889-555-7393'>\n",
            "<re.Match object; span=(2562, 2574), match='195-555-2405'>\n",
            "<re.Match object; span=(2647, 2659), match='321-555-9053'>\n",
            "<re.Match object; span=(2734, 2746), match='133-555-1711'>\n",
            "<re.Match object; span=(2826, 2838), match='900-555-5428'>\n",
            "<re.Match object; span=(2915, 2927), match='760-555-7147'>\n",
            "<re.Match object; span=(3012, 3024), match='391-555-6621'>\n",
            "<re.Match object; span=(3103, 3115), match='932-555-7724'>\n",
            "<re.Match object; span=(3192, 3204), match='609-555-7908'>\n",
            "<re.Match object; span=(3284, 3296), match='800-555-8810'>\n",
            "<re.Match object; span=(3372, 3384), match='149-555-7657'>\n",
            "<re.Match object; span=(3452, 3464), match='130-555-9709'>\n",
            "<re.Match object; span=(3535, 3547), match='143-555-9295'>\n",
            "<re.Match object; span=(3624, 3636), match='903-555-9878'>\n",
            "<re.Match object; span=(3714, 3726), match='574-555-3194'>\n",
            "<re.Match object; span=(3802, 3814), match='496-555-7533'>\n",
            "<re.Match object; span=(3887, 3899), match='210-555-3757'>\n",
            "<re.Match object; span=(3971, 3983), match='900-555-9598'>\n",
            "<re.Match object; span=(4056, 4068), match='866-555-9844'>\n",
            "<re.Match object; span=(4140, 4152), match='669-555-7159'>\n",
            "<re.Match object; span=(4225, 4237), match='152-555-7417'>\n",
            "<re.Match object; span=(4317, 4329), match='893-555-9832'>\n",
            "<re.Match object; span=(4407, 4419), match='217-555-7123'>\n",
            "<re.Match object; span=(4498, 4510), match='786-555-6544'>\n",
            "<re.Match object; span=(4588, 4600), match='780-555-2574'>\n",
            "<re.Match object; span=(4676, 4688), match='926-555-8735'>\n",
            "<re.Match object; span=(4762, 4774), match='895-555-3539'>\n",
            "<re.Match object; span=(4859, 4871), match='874-555-3949'>\n",
            "<re.Match object; span=(4945, 4957), match='800-555-2420'>\n",
            "<re.Match object; span=(5034, 5046), match='936-555-6340'>\n",
            "<re.Match object; span=(5123, 5135), match='372-555-9809'>\n",
            "<re.Match object; span=(5210, 5222), match='890-555-5618'>\n",
            "<re.Match object; span=(5292, 5304), match='670-555-3005'>\n",
            "<re.Match object; span=(5382, 5394), match='509-555-5997'>\n",
            "<re.Match object; span=(5475, 5487), match='721-555-5632'>\n",
            "<re.Match object; span=(5566, 5578), match='900-555-3567'>\n",
            "<re.Match object; span=(5656, 5668), match='147-555-6830'>\n",
            "<re.Match object; span=(5745, 5757), match='582-555-3426'>\n",
            "<re.Match object; span=(5830, 5842), match='400-555-1706'>\n",
            "<re.Match object; span=(5921, 5933), match='525-555-1793'>\n",
            "<re.Match object; span=(6011, 6023), match='317-555-6700'>\n",
            "<re.Match object; span=(6099, 6111), match='974-555-8301'>\n",
            "<re.Match object; span=(6189, 6201), match='800-555-3216'>\n",
            "<re.Match object; span=(6273, 6285), match='746-555-4094'>\n",
            "<re.Match object; span=(6360, 6372), match='922-555-1773'>\n",
            "<re.Match object; span=(6445, 6457), match='711-555-4427'>\n",
            "<re.Match object; span=(6530, 6542), match='355-555-1872'>\n",
            "<re.Match object; span=(6619, 6631), match='852-555-6521'>\n",
            "<re.Match object; span=(6711, 6723), match='691-555-5773'>\n",
            "<re.Match object; span=(6803, 6815), match='332-555-5441'>\n",
            "<re.Match object; span=(6889, 6901), match='900-555-7755'>\n",
            "<re.Match object; span=(6971, 6983), match='379-555-3685'>\n",
            "<re.Match object; span=(7061, 7073), match='127-555-9682'>\n",
            "<re.Match object; span=(7152, 7164), match='789-555-7032'>\n",
            "<re.Match object; span=(7243, 7255), match='783-555-5135'>\n",
            "<re.Match object; span=(7336, 7348), match='315-555-6507'>\n",
            "<re.Match object; span=(7427, 7439), match='481-555-5835'>\n",
            "<re.Match object; span=(7515, 7527), match='365-555-8287'>\n",
            "<re.Match object; span=(7607, 7619), match='911-555-7535'>\n",
            "<re.Match object; span=(7693, 7705), match='681-555-2460'>\n",
            "<re.Match object; span=(7779, 7791), match='274-555-9800'>\n",
            "<re.Match object; span=(7864, 7876), match='800-555-1372'>\n",
            "<re.Match object; span=(7953, 7965), match='300-555-7821'>\n",
            "<re.Match object; span=(8043, 8055), match='133-555-3889'>\n",
            "<re.Match object; span=(8129, 8141), match='705-555-6863'>\n",
            "<re.Match object; span=(8218, 8230), match='215-555-9449'>\n",
            "<re.Match object; span=(8309, 8321), match='988-555-6112'>\n",
            "<re.Match object; span=(8395, 8407), match='623-555-3006'>\n",
            "<re.Match object; span=(8479, 8491), match='192-555-4977'>\n",
            "<re.Match object; span=(8564, 8576), match='178-555-4899'>\n",
            "<re.Match object; span=(8648, 8660), match='952-555-3089'>\n",
            "<re.Match object; span=(8741, 8753), match='900-555-6426'>\n"
          ],
          "name": "stdout"
        }
      ]
    },
    {
      "cell_type": "code",
      "metadata": {
        "id": "jIXM_kFoXvwy"
      },
      "source": [
        "text_to_search = '''\n",
        "abcdefghijklmnopqrstuwxyz\n",
        "ABCDEFGHIJKLMNOPQRSTUVWXYZ\n",
        "1234567890\n",
        "\n",
        "MetaCharacters (Need to be escaped):\n",
        ". ^ $ * + ? { } [ ] \\ | ( )\n",
        "\n",
        "Ha HaHa\n",
        "kunj.com\n",
        "\n",
        "742-349-0901\n",
        "123.555.1234\n",
        "123+555-1234\n",
        "800-555-1234\n",
        "900-555-1234\n",
        "\n",
        "Mr. Kunj\n",
        "Mr Raman\n",
        "Mr Sanjay\n",
        "Mrs. Akarshika\n",
        "Mrs. Emma\n",
        "Mrs.\n",
        "'''\n",
        "sentence = 'Start a sentence and then bring t to an end'\n"
      ],
      "execution_count": 51,
      "outputs": []
    },
    {
      "cell_type": "code",
      "metadata": {
        "colab": {
          "base_uri": "https://localhost:8080/"
        },
        "id": "CRIwidSlWyrp",
        "outputId": "188f1bc4-3b02-4ae7-b7c8-9af5bfbb370a"
      },
      "source": [
        "pattern = re.compile(r'\\d\\d\\d[-.]\\d\\d\\d[-.]\\d\\d\\d\\d') # this means only - and .\n",
        "matches = pattern.finditer(text_to_search)\n",
        "\n",
        "for match in matches:\n",
        "  print(match)"
      ],
      "execution_count": 42,
      "outputs": [
        {
          "output_type": "stream",
          "text": [
            "<re.Match object; span=(150, 162), match='742-349-0901'>\n",
            "<re.Match object; span=(163, 175), match='123.555.1234'>\n"
          ],
          "name": "stdout"
        }
      ]
    },
    {
      "cell_type": "code",
      "metadata": {
        "colab": {
          "base_uri": "https://localhost:8080/"
        },
        "id": "EeDBhVXVY_vA",
        "outputId": "c2d151bb-ccfe-424e-eef1-a1108e7fa550"
      },
      "source": [
        "pattern = re.compile(r'\\d\\d\\d[+.]\\d\\d\\d[-.]\\d\\d\\d\\d') \n",
        "matches = pattern.finditer(text_to_search)\n",
        "\n",
        "for match in matches:\n",
        "  print(match)"
      ],
      "execution_count": 55,
      "outputs": [
        {
          "output_type": "stream",
          "text": [
            "<re.Match object; span=(163, 175), match='123.555.1234'>\n",
            "<re.Match object; span=(176, 188), match='123+555-1234'>\n"
          ],
          "name": "stdout"
        }
      ]
    },
    {
      "cell_type": "code",
      "metadata": {
        "colab": {
          "base_uri": "https://localhost:8080/"
        },
        "id": "rO45u2YdX6SI",
        "outputId": "f44e5264-0919-48e4-e428-8abb155a6a03"
      },
      "source": [
        "pattern = re.compile(r'[89]00[-.]\\d\\d\\d[-.]\\d\\d\\d\\d') \n",
        "matches = pattern.finditer(text_to_search)\n",
        "\n",
        "for match in matches:\n",
        "  print(match)"
      ],
      "execution_count": 56,
      "outputs": [
        {
          "output_type": "stream",
          "text": [
            "<re.Match object; span=(189, 201), match='800-555-1234'>\n",
            "<re.Match object; span=(202, 214), match='900-555-1234'>\n"
          ],
          "name": "stdout"
        }
      ]
    },
    {
      "cell_type": "code",
      "metadata": {
        "colab": {
          "base_uri": "https://localhost:8080/"
        },
        "id": "eZ7kkxGVYmjn",
        "outputId": "8c1744c5-7595-4c9f-961c-1e4eaefd6738"
      },
      "source": [
        "pattern = re.compile(r'[1-5]') # 1 to 5\n",
        "matches = pattern.finditer(text_to_search)\n",
        "\n",
        "for match in matches:\n",
        "  print(match)"
      ],
      "execution_count": 57,
      "outputs": [
        {
          "output_type": "stream",
          "text": [
            "<re.Match object; span=(54, 55), match='1'>\n",
            "<re.Match object; span=(55, 56), match='2'>\n",
            "<re.Match object; span=(56, 57), match='3'>\n",
            "<re.Match object; span=(57, 58), match='4'>\n",
            "<re.Match object; span=(58, 59), match='5'>\n",
            "<re.Match object; span=(151, 152), match='4'>\n",
            "<re.Match object; span=(152, 153), match='2'>\n",
            "<re.Match object; span=(154, 155), match='3'>\n",
            "<re.Match object; span=(155, 156), match='4'>\n",
            "<re.Match object; span=(161, 162), match='1'>\n",
            "<re.Match object; span=(163, 164), match='1'>\n",
            "<re.Match object; span=(164, 165), match='2'>\n",
            "<re.Match object; span=(165, 166), match='3'>\n",
            "<re.Match object; span=(167, 168), match='5'>\n",
            "<re.Match object; span=(168, 169), match='5'>\n",
            "<re.Match object; span=(169, 170), match='5'>\n",
            "<re.Match object; span=(171, 172), match='1'>\n",
            "<re.Match object; span=(172, 173), match='2'>\n",
            "<re.Match object; span=(173, 174), match='3'>\n",
            "<re.Match object; span=(174, 175), match='4'>\n",
            "<re.Match object; span=(176, 177), match='1'>\n",
            "<re.Match object; span=(177, 178), match='2'>\n",
            "<re.Match object; span=(178, 179), match='3'>\n",
            "<re.Match object; span=(180, 181), match='5'>\n",
            "<re.Match object; span=(181, 182), match='5'>\n",
            "<re.Match object; span=(182, 183), match='5'>\n",
            "<re.Match object; span=(184, 185), match='1'>\n",
            "<re.Match object; span=(185, 186), match='2'>\n",
            "<re.Match object; span=(186, 187), match='3'>\n",
            "<re.Match object; span=(187, 188), match='4'>\n",
            "<re.Match object; span=(193, 194), match='5'>\n",
            "<re.Match object; span=(194, 195), match='5'>\n",
            "<re.Match object; span=(195, 196), match='5'>\n",
            "<re.Match object; span=(197, 198), match='1'>\n",
            "<re.Match object; span=(198, 199), match='2'>\n",
            "<re.Match object; span=(199, 200), match='3'>\n",
            "<re.Match object; span=(200, 201), match='4'>\n",
            "<re.Match object; span=(206, 207), match='5'>\n",
            "<re.Match object; span=(207, 208), match='5'>\n",
            "<re.Match object; span=(208, 209), match='5'>\n",
            "<re.Match object; span=(210, 211), match='1'>\n",
            "<re.Match object; span=(211, 212), match='2'>\n",
            "<re.Match object; span=(212, 213), match='3'>\n",
            "<re.Match object; span=(213, 214), match='4'>\n"
          ],
          "name": "stdout"
        }
      ]
    },
    {
      "cell_type": "code",
      "metadata": {
        "id": "2-lF5lfXZNmB"
      },
      "source": [
        "text_to_search = '''\n",
        "abcdefghijklmnopqrstuwxyz\n",
        "ABCDEFGHIJKLMNOPQRSTUVWXYZ\n",
        "1234567890\n",
        "\n",
        "MetaCharacters (Need to be escaped):\n",
        ". ^ $ * + ? { } [ ] \\ | ( )\n",
        "\n",
        "Ha HaHa\n",
        "kunj.com\n",
        "\n",
        "742-349-0901\n",
        "123.555.1234\n",
        "123+555-1234\n",
        "800-555-1234\n",
        "900-555-1234\n",
        "\n",
        "cat\n",
        "mat\n",
        "pat\n",
        "bat\n",
        "\n",
        "Mr. Kunj\n",
        "Mr Raman\n",
        "Mr Sanjay\n",
        "Mrs. Akarshika\n",
        "Mrs. Emma\n",
        "Mr. T\n",
        "Ms. Hello\n",
        "'''\n"
      ],
      "execution_count": 82,
      "outputs": []
    },
    {
      "cell_type": "code",
      "metadata": {
        "colab": {
          "base_uri": "https://localhost:8080/"
        },
        "id": "MqiF6rI8ZrSr",
        "outputId": "889c7ae3-f94b-41f2-ca7e-21cb7a83edb0"
      },
      "source": [
        "pattern = re.compile(r'[^b]at') # not b\n",
        "matches = pattern.finditer(text_to_search)\n",
        "\n",
        "for match in matches:\n",
        "  print(match)"
      ],
      "execution_count": 60,
      "outputs": [
        {
          "output_type": "stream",
          "text": [
            "<re.Match object; span=(216, 219), match='cat'>\n",
            "<re.Match object; span=(220, 223), match='mat'>\n",
            "<re.Match object; span=(224, 227), match='pat'>\n"
          ],
          "name": "stdout"
        }
      ]
    },
    {
      "cell_type": "code",
      "metadata": {
        "colab": {
          "base_uri": "https://localhost:8080/"
        },
        "id": "q4jInyEkZxfX",
        "outputId": "709f4067-e1f5-4f31-aa10-462e1188cf66"
      },
      "source": [
        "pattern = re.compile(r'\\d\\d\\d.\\d\\d\\d.\\d\\d\\d\\d') \n",
        "matches = pattern.finditer(text_to_search)\n",
        "\n",
        "for match in matches:\n",
        "  print(match)"
      ],
      "execution_count": 61,
      "outputs": [
        {
          "output_type": "stream",
          "text": [
            "<re.Match object; span=(150, 162), match='742-349-0901'>\n",
            "<re.Match object; span=(163, 175), match='123.555.1234'>\n",
            "<re.Match object; span=(176, 188), match='123+555-1234'>\n",
            "<re.Match object; span=(189, 201), match='800-555-1234'>\n",
            "<re.Match object; span=(202, 214), match='900-555-1234'>\n"
          ],
          "name": "stdout"
        }
      ]
    },
    {
      "cell_type": "code",
      "metadata": {
        "id": "M7Y4vg5KaGIK"
      },
      "source": [
        "#quantifiers\n",
        "# * 0 or more \n",
        "# + 1 0r more\n",
        "# ? 0 or One\n",
        "# {3} exact number\n",
        "# {3,4} Range of numbers"
      ],
      "execution_count": 63,
      "outputs": []
    },
    {
      "cell_type": "code",
      "metadata": {
        "colab": {
          "base_uri": "https://localhost:8080/"
        },
        "id": "1WAc__OaaOc_",
        "outputId": "8db65408-d1e0-4834-9f67-50db7771498e"
      },
      "source": [
        "pattern = re.compile(r'\\d{3}.\\d{3}.\\d{4}')\n",
        "matches = pattern.finditer(text_to_search)\n",
        "\n",
        "for match in matches:\n",
        "  print(match)"
      ],
      "execution_count": 66,
      "outputs": [
        {
          "output_type": "stream",
          "text": [
            "<re.Match object; span=(150, 162), match='742-349-0901'>\n",
            "<re.Match object; span=(163, 175), match='123.555.1234'>\n",
            "<re.Match object; span=(176, 188), match='123+555-1234'>\n",
            "<re.Match object; span=(189, 201), match='800-555-1234'>\n",
            "<re.Match object; span=(202, 214), match='900-555-1234'>\n"
          ],
          "name": "stdout"
        }
      ]
    },
    {
      "cell_type": "code",
      "metadata": {
        "colab": {
          "base_uri": "https://localhost:8080/"
        },
        "id": "3WUOSCSpasmA",
        "outputId": "25bf407c-011b-4e76-f477-570e840c629a"
      },
      "source": [
        "pattern = re.compile(r'Mr\\.')\n",
        "matches = pattern.finditer(text_to_search)\n",
        "\n",
        "for match in matches:\n",
        "  print(match)"
      ],
      "execution_count": 67,
      "outputs": [
        {
          "output_type": "stream",
          "text": [
            "<re.Match object; span=(233, 236), match='Mr.'>\n"
          ],
          "name": "stdout"
        }
      ]
    },
    {
      "cell_type": "code",
      "metadata": {
        "colab": {
          "base_uri": "https://localhost:8080/"
        },
        "id": "TzCEntDGbBuk",
        "outputId": "c98b1717-0fd1-48a5-88b0-e984d0ebc0cc"
      },
      "source": [
        "pattern = re.compile(r'Mr\\.?\\s[A-Z]')\n",
        "matches = pattern.finditer(text_to_search)\n",
        "\n",
        "for match in matches:\n",
        "  print(match)"
      ],
      "execution_count": 69,
      "outputs": [
        {
          "output_type": "stream",
          "text": [
            "<re.Match object; span=(233, 238), match='Mr. K'>\n",
            "<re.Match object; span=(242, 246), match='Mr R'>\n",
            "<re.Match object; span=(251, 255), match='Mr S'>\n"
          ],
          "name": "stdout"
        }
      ]
    },
    {
      "cell_type": "code",
      "metadata": {
        "colab": {
          "base_uri": "https://localhost:8080/"
        },
        "id": "IcVYiGB7bOq-",
        "outputId": "069e95fd-f7cc-4e18-d4e5-3736dd22f992"
      },
      "source": [
        "pattern = re.compile(r'Mr\\.?\\s[A-Z]\\w+')\n",
        "matches = pattern.finditer(text_to_search)\n",
        "\n",
        "for match in matches:\n",
        "  print(match)"
      ],
      "execution_count": 73,
      "outputs": [
        {
          "output_type": "stream",
          "text": [
            "<re.Match object; span=(233, 241), match='Mr. Kunj'>\n",
            "<re.Match object; span=(242, 250), match='Mr Raman'>\n",
            "<re.Match object; span=(251, 260), match='Mr Sanjay'>\n"
          ],
          "name": "stdout"
        }
      ]
    },
    {
      "cell_type": "code",
      "metadata": {
        "colab": {
          "base_uri": "https://localhost:8080/"
        },
        "id": "XvCUoPUkb2Y1",
        "outputId": "d0affc22-636e-4efa-88cb-3832df36f57d"
      },
      "source": [
        "pattern = re.compile(r'Mr\\.?\\s[A-Z]\\w*')\n",
        "matches = pattern.finditer(text_to_search)\n",
        "\n",
        "for match in matches:\n",
        "  print(match)"
      ],
      "execution_count": 74,
      "outputs": [
        {
          "output_type": "stream",
          "text": [
            "<re.Match object; span=(233, 241), match='Mr. Kunj'>\n",
            "<re.Match object; span=(242, 250), match='Mr Raman'>\n",
            "<re.Match object; span=(251, 260), match='Mr Sanjay'>\n",
            "<re.Match object; span=(286, 291), match='Mr. T'>\n"
          ],
          "name": "stdout"
        }
      ]
    },
    {
      "cell_type": "code",
      "metadata": {
        "colab": {
          "base_uri": "https://localhost:8080/"
        },
        "id": "LXD0c4eib7q2",
        "outputId": "f7ac0682-3d87-43ce-f882-6e8b2a2c2cc2"
      },
      "source": [
        "pattern = re.compile(r'(Mr|Ms|Mrs)\\.?\\s[A-Z]\\w*')\n",
        "matches = pattern.finditer(text_to_search)\n",
        "\n",
        "for match in matches:\n",
        "  print(match)"
      ],
      "execution_count": 83,
      "outputs": [
        {
          "output_type": "stream",
          "text": [
            "<re.Match object; span=(233, 241), match='Mr. Kunj'>\n",
            "<re.Match object; span=(242, 250), match='Mr Raman'>\n",
            "<re.Match object; span=(251, 260), match='Mr Sanjay'>\n",
            "<re.Match object; span=(261, 275), match='Mrs. Akarshika'>\n",
            "<re.Match object; span=(276, 285), match='Mrs. Emma'>\n",
            "<re.Match object; span=(286, 291), match='Mr. T'>\n",
            "<re.Match object; span=(292, 301), match='Ms. Hello'>\n"
          ],
          "name": "stdout"
        }
      ]
    },
    {
      "cell_type": "code",
      "metadata": {
        "id": "fZa7NlzjcQFe"
      },
      "source": [
        "#finding emails\n",
        "\n",
        "emails = '''\n",
        "kunjkinger@gmail.com\n",
        "kk19abd@herts.uk\n",
        "kunj-321-kinger@google-work.net'''"
      ],
      "execution_count": 91,
      "outputs": []
    },
    {
      "cell_type": "code",
      "metadata": {
        "colab": {
          "base_uri": "https://localhost:8080/"
        },
        "id": "rrncZFSMdL1l",
        "outputId": "a2efb89b-cf35-46f7-8e52-e5ecfcac6b70"
      },
      "source": [
        "pattern = re.compile('[a-zA-Z0-9.-]+@[a-zA-Z-]+\\.(com|uk|net)')\n",
        "matches = pattern.finditer(emails)\n",
        "\n",
        "for match in matches:\n",
        "  print(match)"
      ],
      "execution_count": 92,
      "outputs": [
        {
          "output_type": "stream",
          "text": [
            "<re.Match object; span=(1, 21), match='kunjkinger@gmail.com'>\n",
            "<re.Match object; span=(22, 38), match='kk19abd@herts.uk'>\n",
            "<re.Match object; span=(39, 70), match='kunj-321-kinger@google-work.net'>\n"
          ],
          "name": "stdout"
        }
      ]
    },
    {
      "cell_type": "code",
      "metadata": {
        "id": "UKHiwFHFe5Rb"
      },
      "source": [
        "#finding emails\n",
        "\n",
        "emails = '''\n",
        "kunjkinger@gmail.com\n",
        "kk19abd@herts.ac.uk\n",
        "kunj-321-kinger@google-work.net'''"
      ],
      "execution_count": 94,
      "outputs": []
    },
    {
      "cell_type": "code",
      "metadata": {
        "colab": {
          "base_uri": "https://localhost:8080/"
        },
        "id": "3jUor0u-dfuF",
        "outputId": "0083148e-dfa9-40fb-ae03-f05f4418dfa6"
      },
      "source": [
        "pattern = re.compile('[a-zA-Z0-9.+-]+@[a-zA-Z0-9-]+\\.[a-zA-Z0-9-.]+')\n",
        "matches = pattern.finditer(emails)\n",
        "\n",
        "for match in matches:\n",
        "  print(match)"
      ],
      "execution_count": 95,
      "outputs": [
        {
          "output_type": "stream",
          "text": [
            "<re.Match object; span=(1, 21), match='kunjkinger@gmail.com'>\n",
            "<re.Match object; span=(22, 41), match='kk19abd@herts.ac.uk'>\n",
            "<re.Match object; span=(42, 73), match='kunj-321-kinger@google-work.net'>\n"
          ],
          "name": "stdout"
        }
      ]
    },
    {
      "cell_type": "code",
      "metadata": {
        "id": "ZlsetwCie2bN"
      },
      "source": [
        "#urls\n",
        "urls = '''\n",
        "https://www.google.com\n",
        "http://coreyms.com\n",
        "https://youtube.com\n",
        "https://www.nasa.gov'''"
      ],
      "execution_count": 97,
      "outputs": []
    },
    {
      "cell_type": "code",
      "metadata": {
        "colab": {
          "base_uri": "https://localhost:8080/"
        },
        "id": "71v7qF-6fjAD",
        "outputId": "99472443-d575-487f-8b39-8fc5403974a6"
      },
      "source": [
        "pattern = re.compile('https?://(www\\.)?(\\w+)(\\.\\w+)')\n",
        "matches = pattern.finditer(urls)\n",
        "\n",
        "for match in matches:\n",
        "  print(match.group(0))"
      ],
      "execution_count": 104,
      "outputs": [
        {
          "output_type": "stream",
          "text": [
            "https://www.google.com\n",
            "http://coreyms.com\n",
            "https://youtube.com\n",
            "https://www.nasa.gov\n"
          ],
          "name": "stdout"
        }
      ]
    },
    {
      "cell_type": "code",
      "metadata": {
        "colab": {
          "base_uri": "https://localhost:8080/"
        },
        "id": "jMTpv01rgAZ6",
        "outputId": "58718fb2-fd63-4d79-80c1-945eb7037c85"
      },
      "source": [
        "pattern = re.compile('https?://(www\\.)?(\\w+)(\\.\\w+)')\n",
        "matches = pattern.finditer(urls)\n",
        "\n",
        "for match in matches:\n",
        "  print(match.group(1))"
      ],
      "execution_count": 105,
      "outputs": [
        {
          "output_type": "stream",
          "text": [
            "www.\n",
            "None\n",
            "None\n",
            "www.\n"
          ],
          "name": "stdout"
        }
      ]
    },
    {
      "cell_type": "code",
      "metadata": {
        "colab": {
          "base_uri": "https://localhost:8080/"
        },
        "id": "CqqCGaXJgwhr",
        "outputId": "a2eb657a-fe1c-466d-be9a-b291c7b48f37"
      },
      "source": [
        "pattern = re.compile('https?://(www\\.)?(\\w+)(\\.\\w+)')\n",
        "matches = pattern.finditer(urls)\n",
        "\n",
        "for match in matches:\n",
        "  print(match.group(2))"
      ],
      "execution_count": 106,
      "outputs": [
        {
          "output_type": "stream",
          "text": [
            "google\n",
            "coreyms\n",
            "youtube\n",
            "nasa\n"
          ],
          "name": "stdout"
        }
      ]
    },
    {
      "cell_type": "code",
      "metadata": {
        "colab": {
          "base_uri": "https://localhost:8080/"
        },
        "id": "kmEEji-1gzxb",
        "outputId": "5e4eb87f-dc7e-4299-9753-d059869464d5"
      },
      "source": [
        "pattern = re.compile('https?://(www\\.)?(\\w+)(\\.\\w+)')\n",
        "matches = pattern.finditer(urls)\n",
        "\n",
        "for match in matches:\n",
        "  print(match.group(3))"
      ],
      "execution_count": 107,
      "outputs": [
        {
          "output_type": "stream",
          "text": [
            ".com\n",
            ".com\n",
            ".com\n",
            ".gov\n"
          ],
          "name": "stdout"
        }
      ]
    },
    {
      "cell_type": "code",
      "metadata": {
        "colab": {
          "base_uri": "https://localhost:8080/"
        },
        "id": "exLy8LuDg18z",
        "outputId": "c9152f6b-bee3-4627-bb96-e24f23b4bb3b"
      },
      "source": [
        "pattern = re.compile('https?://(www\\.)?(\\w+)(\\.\\w+)')\n",
        "subbed_urls= pattern.sub(r'\\2\\3',urls) # gri=oup 2 and group 3\n",
        "print(subbed_urls)\n",
        "\n",
        "#for match in matches:\n",
        "# print(match.group(3))"
      ],
      "execution_count": 108,
      "outputs": [
        {
          "output_type": "stream",
          "text": [
            "\n",
            "google.com\n",
            "coreyms.com\n",
            "youtube.com\n",
            "nasa.gov\n"
          ],
          "name": "stdout"
        }
      ]
    },
    {
      "cell_type": "code",
      "metadata": {
        "colab": {
          "base_uri": "https://localhost:8080/"
        },
        "id": "YcNALZPjhVYL",
        "outputId": "dff5f158-9213-4c3c-d95b-b7b721e98364"
      },
      "source": [
        "#findall\n",
        "pattern = re.compile(r'(Mr|Ms|Mrs)\\.?\\s[A-Z]\\w*')\n",
        "matches = pattern.findall(text_to_search)\n",
        "\n",
        "for match in matches:\n",
        "  print(match)"
      ],
      "execution_count": 109,
      "outputs": [
        {
          "output_type": "stream",
          "text": [
            "Mr\n",
            "Mr\n",
            "Mr\n",
            "Mrs\n",
            "Mrs\n",
            "Mr\n",
            "Ms\n"
          ],
          "name": "stdout"
        }
      ]
    },
    {
      "cell_type": "code",
      "metadata": {
        "colab": {
          "base_uri": "https://localhost:8080/"
        },
        "id": "HwGGQWqfhsAT",
        "outputId": "214b57be-b9db-4e3d-cc52-26aafafa0435"
      },
      "source": [
        "#findall\n",
        "pattern = re.compile(r'\\d{3}.\\d{3}.\\d{4}')\n",
        "matches = pattern.findall(text_to_search)\n",
        "\n",
        "for match in matches:\n",
        "  print(match)"
      ],
      "execution_count": 110,
      "outputs": [
        {
          "output_type": "stream",
          "text": [
            "742-349-0901\n",
            "123.555.1234\n",
            "123+555-1234\n",
            "800-555-1234\n",
            "900-555-1234\n"
          ],
          "name": "stdout"
        }
      ]
    },
    {
      "cell_type": "code",
      "metadata": {
        "colab": {
          "base_uri": "https://localhost:8080/"
        },
        "id": "BPqESUySh_KT",
        "outputId": "2fc83b1b-7fae-46c8-b971-e7c1f2d10cd2"
      },
      "source": [
        "#match\n",
        "pattern = re.compile(r'Start')\n",
        "matches = pattern.match(sentence)\n",
        "print(matches)"
      ],
      "execution_count": 112,
      "outputs": [
        {
          "output_type": "stream",
          "text": [
            "<re.Match object; span=(0, 5), match='Start'>\n"
          ],
          "name": "stdout"
        }
      ]
    },
    {
      "cell_type": "code",
      "metadata": {
        "colab": {
          "base_uri": "https://localhost:8080/"
        },
        "id": "owhPUgAtiOiK",
        "outputId": "9c3b8225-69f6-4416-e4e7-d2210931d40d"
      },
      "source": [
        "\n",
        "pattern = re.compile(r'sentence')\n",
        "matches = pattern.match(sentence)\n",
        "print(matches)"
      ],
      "execution_count": 113,
      "outputs": [
        {
          "output_type": "stream",
          "text": [
            "None\n"
          ],
          "name": "stdout"
        }
      ]
    },
    {
      "cell_type": "code",
      "metadata": {
        "colab": {
          "base_uri": "https://localhost:8080/"
        },
        "id": "7QaSJr-4iZpR",
        "outputId": "5e07ef92-d8d0-4095-f980-821d87f2f109"
      },
      "source": [
        "#search\n",
        "pattern = re.compile(r'sentence')\n",
        "matches = pattern.search(sentence)\n",
        "print(matches)"
      ],
      "execution_count": 114,
      "outputs": [
        {
          "output_type": "stream",
          "text": [
            "<re.Match object; span=(8, 16), match='sentence'>\n"
          ],
          "name": "stdout"
        }
      ]
    },
    {
      "cell_type": "code",
      "metadata": {
        "colab": {
          "base_uri": "https://localhost:8080/"
        },
        "id": "6mJF9dDvigmx",
        "outputId": "f94734cb-8c30-49d5-c763-ed466e04fca2"
      },
      "source": [
        "#flags\n",
        "#search\n",
        "pattern = re.compile(r'start',re.IGNORECASE)\n",
        "matches = pattern.search(sentence)\n",
        "print(matches)"
      ],
      "execution_count": 115,
      "outputs": [
        {
          "output_type": "stream",
          "text": [
            "<re.Match object; span=(0, 5), match='Start'>\n"
          ],
          "name": "stdout"
        }
      ]
    },
    {
      "cell_type": "code",
      "metadata": {
        "id": "Gap6vFnMi35h"
      },
      "source": [
        ""
      ],
      "execution_count": null,
      "outputs": []
    }
  ]
}